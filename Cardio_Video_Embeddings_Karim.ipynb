{
 "nbformat": 4,
 "nbformat_minor": 0,
 "metadata": {
  "colab": {
   "name": "Copy of Cardio_Video_Embeddings_Karim.ipynb",
   "provenance": [],
   "collapsed_sections": [],
   "include_colab_link": true
  },
  "kernelspec": {
   "name": "python3",
   "display_name": "Python 3"
  },
  "language_info": {
   "name": "python"
  },
  "widgets": {
   "application/vnd.jupyter.widget-state+json": {
    "53bd7dbd9d4f40acaa8a06763f591747": {
     "model_module": "@jupyter-widgets/controls",
     "model_name": "HBoxModel",
     "model_module_version": "1.5.0",
     "state": {
      "_view_name": "HBoxView",
      "_dom_classes": [],
      "_model_name": "HBoxModel",
      "_view_module": "@jupyter-widgets/controls",
      "_model_module_version": "1.5.0",
      "_view_count": null,
      "_view_module_version": "1.5.0",
      "box_style": "",
      "layout": "IPY_MODEL_9dc4bde4a27e428fa71abd79dc6977d9",
      "_model_module": "@jupyter-widgets/controls",
      "children": [
       "IPY_MODEL_8efbfca3bbd04045ab3e4f4480d6cb9c",
       "IPY_MODEL_0ded42cc6d164baa93f0b6c66623187e",
       "IPY_MODEL_03d13750401b416da5e0bf822cf6bdd6"
      ]
     }
    },
    "9dc4bde4a27e428fa71abd79dc6977d9": {
     "model_module": "@jupyter-widgets/base",
     "model_name": "LayoutModel",
     "model_module_version": "1.2.0",
     "state": {
      "_view_name": "LayoutView",
      "grid_template_rows": null,
      "right": null,
      "justify_content": null,
      "_view_module": "@jupyter-widgets/base",
      "overflow": null,
      "_model_module_version": "1.2.0",
      "_view_count": null,
      "flex_flow": null,
      "width": null,
      "min_width": null,
      "border": null,
      "align_items": null,
      "bottom": null,
      "_model_module": "@jupyter-widgets/base",
      "top": null,
      "grid_column": null,
      "overflow_y": null,
      "overflow_x": null,
      "grid_auto_flow": null,
      "grid_area": null,
      "grid_template_columns": null,
      "flex": null,
      "_model_name": "LayoutModel",
      "justify_items": null,
      "grid_row": null,
      "max_height": null,
      "align_content": null,
      "visibility": null,
      "align_self": null,
      "height": null,
      "min_height": null,
      "padding": null,
      "grid_auto_rows": null,
      "grid_gap": null,
      "max_width": null,
      "order": null,
      "_view_module_version": "1.2.0",
      "grid_template_areas": null,
      "object_position": null,
      "object_fit": null,
      "grid_auto_columns": null,
      "margin": null,
      "display": null,
      "left": null
     }
    },
    "8efbfca3bbd04045ab3e4f4480d6cb9c": {
     "model_module": "@jupyter-widgets/controls",
     "model_name": "HTMLModel",
     "model_module_version": "1.5.0",
     "state": {
      "_view_name": "HTMLView",
      "style": "IPY_MODEL_4acd24073cdb443c92702540e75d6ffd",
      "_dom_classes": [],
      "description": "",
      "_model_name": "HTMLModel",
      "placeholder": "​",
      "_view_module": "@jupyter-widgets/controls",
      "_model_module_version": "1.5.0",
      "value": "100%",
      "_view_count": null,
      "_view_module_version": "1.5.0",
      "description_tooltip": null,
      "_model_module": "@jupyter-widgets/controls",
      "layout": "IPY_MODEL_51eea341f12c4dc4a81bf0a5c313c200"
     }
    },
    "0ded42cc6d164baa93f0b6c66623187e": {
     "model_module": "@jupyter-widgets/controls",
     "model_name": "FloatProgressModel",
     "model_module_version": "1.5.0",
     "state": {
      "_view_name": "ProgressView",
      "style": "IPY_MODEL_a6dbf2f8ae984689b4c05102c60edfc7",
      "_dom_classes": [],
      "description": "",
      "_model_name": "FloatProgressModel",
      "bar_style": "success",
      "max": 5505,
      "_view_module": "@jupyter-widgets/controls",
      "_model_module_version": "1.5.0",
      "value": 5505,
      "_view_count": null,
      "_view_module_version": "1.5.0",
      "orientation": "horizontal",
      "min": 0,
      "description_tooltip": null,
      "_model_module": "@jupyter-widgets/controls",
      "layout": "IPY_MODEL_394cd9d93ab34b66881b339c5debf337"
     }
    },
    "03d13750401b416da5e0bf822cf6bdd6": {
     "model_module": "@jupyter-widgets/controls",
     "model_name": "HTMLModel",
     "model_module_version": "1.5.0",
     "state": {
      "_view_name": "HTMLView",
      "style": "IPY_MODEL_f4c78b7508a945ca89aa2334b81b1137",
      "_dom_classes": [],
      "description": "",
      "_model_name": "HTMLModel",
      "placeholder": "​",
      "_view_module": "@jupyter-widgets/controls",
      "_model_module_version": "1.5.0",
      "value": " 5505/5505 [00:12&lt;00:00, 467.33it/s]",
      "_view_count": null,
      "_view_module_version": "1.5.0",
      "description_tooltip": null,
      "_model_module": "@jupyter-widgets/controls",
      "layout": "IPY_MODEL_ffa8e8a9b1404799815f048e5aa3c3d7"
     }
    },
    "4acd24073cdb443c92702540e75d6ffd": {
     "model_module": "@jupyter-widgets/controls",
     "model_name": "DescriptionStyleModel",
     "model_module_version": "1.5.0",
     "state": {
      "_view_name": "StyleView",
      "_model_name": "DescriptionStyleModel",
      "description_width": "",
      "_view_module": "@jupyter-widgets/base",
      "_model_module_version": "1.5.0",
      "_view_count": null,
      "_view_module_version": "1.2.0",
      "_model_module": "@jupyter-widgets/controls"
     }
    },
    "51eea341f12c4dc4a81bf0a5c313c200": {
     "model_module": "@jupyter-widgets/base",
     "model_name": "LayoutModel",
     "model_module_version": "1.2.0",
     "state": {
      "_view_name": "LayoutView",
      "grid_template_rows": null,
      "right": null,
      "justify_content": null,
      "_view_module": "@jupyter-widgets/base",
      "overflow": null,
      "_model_module_version": "1.2.0",
      "_view_count": null,
      "flex_flow": null,
      "width": null,
      "min_width": null,
      "border": null,
      "align_items": null,
      "bottom": null,
      "_model_module": "@jupyter-widgets/base",
      "top": null,
      "grid_column": null,
      "overflow_y": null,
      "overflow_x": null,
      "grid_auto_flow": null,
      "grid_area": null,
      "grid_template_columns": null,
      "flex": null,
      "_model_name": "LayoutModel",
      "justify_items": null,
      "grid_row": null,
      "max_height": null,
      "align_content": null,
      "visibility": null,
      "align_self": null,
      "height": null,
      "min_height": null,
      "padding": null,
      "grid_auto_rows": null,
      "grid_gap": null,
      "max_width": null,
      "order": null,
      "_view_module_version": "1.2.0",
      "grid_template_areas": null,
      "object_position": null,
      "object_fit": null,
      "grid_auto_columns": null,
      "margin": null,
      "display": null,
      "left": null
     }
    },
    "a6dbf2f8ae984689b4c05102c60edfc7": {
     "model_module": "@jupyter-widgets/controls",
     "model_name": "ProgressStyleModel",
     "model_module_version": "1.5.0",
     "state": {
      "_view_name": "StyleView",
      "_model_name": "ProgressStyleModel",
      "description_width": "",
      "_view_module": "@jupyter-widgets/base",
      "_model_module_version": "1.5.0",
      "_view_count": null,
      "_view_module_version": "1.2.0",
      "bar_color": null,
      "_model_module": "@jupyter-widgets/controls"
     }
    },
    "394cd9d93ab34b66881b339c5debf337": {
     "model_module": "@jupyter-widgets/base",
     "model_name": "LayoutModel",
     "model_module_version": "1.2.0",
     "state": {
      "_view_name": "LayoutView",
      "grid_template_rows": null,
      "right": null,
      "justify_content": null,
      "_view_module": "@jupyter-widgets/base",
      "overflow": null,
      "_model_module_version": "1.2.0",
      "_view_count": null,
      "flex_flow": null,
      "width": null,
      "min_width": null,
      "border": null,
      "align_items": null,
      "bottom": null,
      "_model_module": "@jupyter-widgets/base",
      "top": null,
      "grid_column": null,
      "overflow_y": null,
      "overflow_x": null,
      "grid_auto_flow": null,
      "grid_area": null,
      "grid_template_columns": null,
      "flex": null,
      "_model_name": "LayoutModel",
      "justify_items": null,
      "grid_row": null,
      "max_height": null,
      "align_content": null,
      "visibility": null,
      "align_self": null,
      "height": null,
      "min_height": null,
      "padding": null,
      "grid_auto_rows": null,
      "grid_gap": null,
      "max_width": null,
      "order": null,
      "_view_module_version": "1.2.0",
      "grid_template_areas": null,
      "object_position": null,
      "object_fit": null,
      "grid_auto_columns": null,
      "margin": null,
      "display": null,
      "left": null
     }
    },
    "f4c78b7508a945ca89aa2334b81b1137": {
     "model_module": "@jupyter-widgets/controls",
     "model_name": "DescriptionStyleModel",
     "model_module_version": "1.5.0",
     "state": {
      "_view_name": "StyleView",
      "_model_name": "DescriptionStyleModel",
      "description_width": "",
      "_view_module": "@jupyter-widgets/base",
      "_model_module_version": "1.5.0",
      "_view_count": null,
      "_view_module_version": "1.2.0",
      "_model_module": "@jupyter-widgets/controls"
     }
    },
    "ffa8e8a9b1404799815f048e5aa3c3d7": {
     "model_module": "@jupyter-widgets/base",
     "model_name": "LayoutModel",
     "model_module_version": "1.2.0",
     "state": {
      "_view_name": "LayoutView",
      "grid_template_rows": null,
      "right": null,
      "justify_content": null,
      "_view_module": "@jupyter-widgets/base",
      "overflow": null,
      "_model_module_version": "1.2.0",
      "_view_count": null,
      "flex_flow": null,
      "width": null,
      "min_width": null,
      "border": null,
      "align_items": null,
      "bottom": null,
      "_model_module": "@jupyter-widgets/base",
      "top": null,
      "grid_column": null,
      "overflow_y": null,
      "overflow_x": null,
      "grid_auto_flow": null,
      "grid_area": null,
      "grid_template_columns": null,
      "flex": null,
      "_model_name": "LayoutModel",
      "justify_items": null,
      "grid_row": null,
      "max_height": null,
      "align_content": null,
      "visibility": null,
      "align_self": null,
      "height": null,
      "min_height": null,
      "padding": null,
      "grid_auto_rows": null,
      "grid_gap": null,
      "max_width": null,
      "order": null,
      "_view_module_version": "1.2.0",
      "grid_template_areas": null,
      "object_position": null,
      "object_fit": null,
      "grid_auto_columns": null,
      "margin": null,
      "display": null,
      "left": null
     }
    },
    "8673d154899f432f918facda57f17f42": {
     "model_module": "@jupyter-widgets/controls",
     "model_name": "HBoxModel",
     "model_module_version": "1.5.0",
     "state": {
      "_view_name": "HBoxView",
      "_dom_classes": [],
      "_model_name": "HBoxModel",
      "_view_module": "@jupyter-widgets/controls",
      "_model_module_version": "1.5.0",
      "_view_count": null,
      "_view_module_version": "1.5.0",
      "box_style": "",
      "layout": "IPY_MODEL_018930a7b01c4a25a586a893d30cd859",
      "_model_module": "@jupyter-widgets/controls",
      "children": [
       "IPY_MODEL_0b58a89e75344bf2b32eef178e415e83",
       "IPY_MODEL_2004ebcbc97b4aeb9d7685486a5c8c3b",
       "IPY_MODEL_fd24f6607dbb4304a86de5ac7acd40ea"
      ]
     }
    },
    "018930a7b01c4a25a586a893d30cd859": {
     "model_module": "@jupyter-widgets/base",
     "model_name": "LayoutModel",
     "model_module_version": "1.2.0",
     "state": {
      "_view_name": "LayoutView",
      "grid_template_rows": null,
      "right": null,
      "justify_content": null,
      "_view_module": "@jupyter-widgets/base",
      "overflow": null,
      "_model_module_version": "1.2.0",
      "_view_count": null,
      "flex_flow": null,
      "width": null,
      "min_width": null,
      "border": null,
      "align_items": null,
      "bottom": null,
      "_model_module": "@jupyter-widgets/base",
      "top": null,
      "grid_column": null,
      "overflow_y": null,
      "overflow_x": null,
      "grid_auto_flow": null,
      "grid_area": null,
      "grid_template_columns": null,
      "flex": null,
      "_model_name": "LayoutModel",
      "justify_items": null,
      "grid_row": null,
      "max_height": null,
      "align_content": null,
      "visibility": null,
      "align_self": null,
      "height": null,
      "min_height": null,
      "padding": null,
      "grid_auto_rows": null,
      "grid_gap": null,
      "max_width": null,
      "order": null,
      "_view_module_version": "1.2.0",
      "grid_template_areas": null,
      "object_position": null,
      "object_fit": null,
      "grid_auto_columns": null,
      "margin": null,
      "display": null,
      "left": null
     }
    },
    "0b58a89e75344bf2b32eef178e415e83": {
     "model_module": "@jupyter-widgets/controls",
     "model_name": "HTMLModel",
     "model_module_version": "1.5.0",
     "state": {
      "_view_name": "HTMLView",
      "style": "IPY_MODEL_ba781c23fa1849858407e8a21b4c89d8",
      "_dom_classes": [],
      "description": "",
      "_model_name": "HTMLModel",
      "placeholder": "​",
      "_view_module": "@jupyter-widgets/controls",
      "_model_module_version": "1.5.0",
      "value": "100%",
      "_view_count": null,
      "_view_module_version": "1.5.0",
      "description_tooltip": null,
      "_model_module": "@jupyter-widgets/controls",
      "layout": "IPY_MODEL_46808983ed4a436fa3cedcaf14f8755d"
     }
    },
    "2004ebcbc97b4aeb9d7685486a5c8c3b": {
     "model_module": "@jupyter-widgets/controls",
     "model_name": "FloatProgressModel",
     "model_module_version": "1.5.0",
     "state": {
      "_view_name": "ProgressView",
      "style": "IPY_MODEL_74f48e186ded4019b5e9abad66cdff97",
      "_dom_classes": [],
      "description": "",
      "_model_name": "FloatProgressModel",
      "bar_style": "success",
      "max": 50,
      "_view_module": "@jupyter-widgets/controls",
      "_model_module_version": "1.5.0",
      "value": 50,
      "_view_count": null,
      "_view_module_version": "1.5.0",
      "orientation": "horizontal",
      "min": 0,
      "description_tooltip": null,
      "_model_module": "@jupyter-widgets/controls",
      "layout": "IPY_MODEL_59eff685d539476184a1edbdacb74dc3"
     }
    },
    "fd24f6607dbb4304a86de5ac7acd40ea": {
     "model_module": "@jupyter-widgets/controls",
     "model_name": "HTMLModel",
     "model_module_version": "1.5.0",
     "state": {
      "_view_name": "HTMLView",
      "style": "IPY_MODEL_fd42cc67001141d991f9e2614ca5a9cf",
      "_dom_classes": [],
      "description": "",
      "_model_name": "HTMLModel",
      "placeholder": "​",
      "_view_module": "@jupyter-widgets/controls",
      "_model_module_version": "1.5.0",
      "value": " 50/50 [2:33:53&lt;00:00, 290.57s/it]",
      "_view_count": null,
      "_view_module_version": "1.5.0",
      "description_tooltip": null,
      "_model_module": "@jupyter-widgets/controls",
      "layout": "IPY_MODEL_6f0f159ad03941efbb43c6e8d76284a9"
     }
    },
    "ba781c23fa1849858407e8a21b4c89d8": {
     "model_module": "@jupyter-widgets/controls",
     "model_name": "DescriptionStyleModel",
     "model_module_version": "1.5.0",
     "state": {
      "_view_name": "StyleView",
      "_model_name": "DescriptionStyleModel",
      "description_width": "",
      "_view_module": "@jupyter-widgets/base",
      "_model_module_version": "1.5.0",
      "_view_count": null,
      "_view_module_version": "1.2.0",
      "_model_module": "@jupyter-widgets/controls"
     }
    },
    "46808983ed4a436fa3cedcaf14f8755d": {
     "model_module": "@jupyter-widgets/base",
     "model_name": "LayoutModel",
     "model_module_version": "1.2.0",
     "state": {
      "_view_name": "LayoutView",
      "grid_template_rows": null,
      "right": null,
      "justify_content": null,
      "_view_module": "@jupyter-widgets/base",
      "overflow": null,
      "_model_module_version": "1.2.0",
      "_view_count": null,
      "flex_flow": null,
      "width": null,
      "min_width": null,
      "border": null,
      "align_items": null,
      "bottom": null,
      "_model_module": "@jupyter-widgets/base",
      "top": null,
      "grid_column": null,
      "overflow_y": null,
      "overflow_x": null,
      "grid_auto_flow": null,
      "grid_area": null,
      "grid_template_columns": null,
      "flex": null,
      "_model_name": "LayoutModel",
      "justify_items": null,
      "grid_row": null,
      "max_height": null,
      "align_content": null,
      "visibility": null,
      "align_self": null,
      "height": null,
      "min_height": null,
      "padding": null,
      "grid_auto_rows": null,
      "grid_gap": null,
      "max_width": null,
      "order": null,
      "_view_module_version": "1.2.0",
      "grid_template_areas": null,
      "object_position": null,
      "object_fit": null,
      "grid_auto_columns": null,
      "margin": null,
      "display": null,
      "left": null
     }
    },
    "74f48e186ded4019b5e9abad66cdff97": {
     "model_module": "@jupyter-widgets/controls",
     "model_name": "ProgressStyleModel",
     "model_module_version": "1.5.0",
     "state": {
      "_view_name": "StyleView",
      "_model_name": "ProgressStyleModel",
      "description_width": "",
      "_view_module": "@jupyter-widgets/base",
      "_model_module_version": "1.5.0",
      "_view_count": null,
      "_view_module_version": "1.2.0",
      "bar_color": null,
      "_model_module": "@jupyter-widgets/controls"
     }
    },
    "59eff685d539476184a1edbdacb74dc3": {
     "model_module": "@jupyter-widgets/base",
     "model_name": "LayoutModel",
     "model_module_version": "1.2.0",
     "state": {
      "_view_name": "LayoutView",
      "grid_template_rows": null,
      "right": null,
      "justify_content": null,
      "_view_module": "@jupyter-widgets/base",
      "overflow": null,
      "_model_module_version": "1.2.0",
      "_view_count": null,
      "flex_flow": null,
      "width": null,
      "min_width": null,
      "border": null,
      "align_items": null,
      "bottom": null,
      "_model_module": "@jupyter-widgets/base",
      "top": null,
      "grid_column": null,
      "overflow_y": null,
      "overflow_x": null,
      "grid_auto_flow": null,
      "grid_area": null,
      "grid_template_columns": null,
      "flex": null,
      "_model_name": "LayoutModel",
      "justify_items": null,
      "grid_row": null,
      "max_height": null,
      "align_content": null,
      "visibility": null,
      "align_self": null,
      "height": null,
      "min_height": null,
      "padding": null,
      "grid_auto_rows": null,
      "grid_gap": null,
      "max_width": null,
      "order": null,
      "_view_module_version": "1.2.0",
      "grid_template_areas": null,
      "object_position": null,
      "object_fit": null,
      "grid_auto_columns": null,
      "margin": null,
      "display": null,
      "left": null
     }
    },
    "fd42cc67001141d991f9e2614ca5a9cf": {
     "model_module": "@jupyter-widgets/controls",
     "model_name": "DescriptionStyleModel",
     "model_module_version": "1.5.0",
     "state": {
      "_view_name": "StyleView",
      "_model_name": "DescriptionStyleModel",
      "description_width": "",
      "_view_module": "@jupyter-widgets/base",
      "_model_module_version": "1.5.0",
      "_view_count": null,
      "_view_module_version": "1.2.0",
      "_model_module": "@jupyter-widgets/controls"
     }
    },
    "6f0f159ad03941efbb43c6e8d76284a9": {
     "model_module": "@jupyter-widgets/base",
     "model_name": "LayoutModel",
     "model_module_version": "1.2.0",
     "state": {
      "_view_name": "LayoutView",
      "grid_template_rows": null,
      "right": null,
      "justify_content": null,
      "_view_module": "@jupyter-widgets/base",
      "overflow": null,
      "_model_module_version": "1.2.0",
      "_view_count": null,
      "flex_flow": null,
      "width": null,
      "min_width": null,
      "border": null,
      "align_items": null,
      "bottom": null,
      "_model_module": "@jupyter-widgets/base",
      "top": null,
      "grid_column": null,
      "overflow_y": null,
      "overflow_x": null,
      "grid_auto_flow": null,
      "grid_area": null,
      "grid_template_columns": null,
      "flex": null,
      "_model_name": "LayoutModel",
      "justify_items": null,
      "grid_row": null,
      "max_height": null,
      "align_content": null,
      "visibility": null,
      "align_self": null,
      "height": null,
      "min_height": null,
      "padding": null,
      "grid_auto_rows": null,
      "grid_gap": null,
      "max_width": null,
      "order": null,
      "_view_module_version": "1.2.0",
      "grid_template_areas": null,
      "object_position": null,
      "object_fit": null,
      "grid_auto_columns": null,
      "margin": null,
      "display": null,
      "left": null
     }
    }
   }
  },
  "accelerator": "GPU"
 },
 "cells": [
  {
   "cell_type": "markdown",
   "metadata": {
    "id": "view-in-github",
    "colab_type": "text"
   },
   "source": [
    "<a href=\"https://colab.research.google.com/github/PerformanceGenetics/velox/blob/dev/Cardio_Video_Embeddings_Karim.ipynb\" target=\"_parent\"><img src=\"https://colab.research.google.com/assets/colab-badge.svg\" alt=\"Open In Colab\"/></a>"
   ]
  },
  {
   "cell_type": "code",
   "source": [
    "%cd /content/drive/MyDrive/freelance/heart_classification_unsupervised_learning"
   ],
   "metadata": {
    "colab": {
     "base_uri": "https://localhost:8080/"
    },
    "id": "ZzqUEzGh7829",
    "outputId": "1f5c9586-2014-4ed3-8937-e1ffb74d0148"
   },
   "execution_count": null,
   "outputs": [
    {
     "output_type": "stream",
     "name": "stdout",
     "text": [
      "/content/drive/MyDrive/freelance/heart_classification_unsupervised_learning\n"
     ]
    }
   ]
  },
  {
   "cell_type": "code",
   "source": [
    "pip install ffmpeg-python"
   ],
   "metadata": {
    "colab": {
     "base_uri": "https://localhost:8080/"
    },
    "id": "yEj5tJFW90kU",
    "outputId": "49ab2dc4-e933-4395-99e2-0175c242881e"
   },
   "execution_count": null,
   "outputs": [
    {
     "output_type": "stream",
     "name": "stdout",
     "text": [
      "Collecting ffmpeg-python\n",
      "  Downloading ffmpeg_python-0.2.0-py3-none-any.whl (25 kB)\n",
      "Requirement already satisfied: future in /usr/local/lib/python3.7/dist-packages (from ffmpeg-python) (0.16.0)\n",
      "Installing collected packages: ffmpeg-python\n",
      "Successfully installed ffmpeg-python-0.2.0\n"
     ]
    }
   ]
  },
  {
   "cell_type": "code",
   "source": [
    "from pathlib import Path\n",
    "from tqdm.notebook import tqdm\n",
    "import pandas as pd\n",
    "import numpy as np\n",
    "import pickle\n",
    "import matplotlib.pyplot as plt\n",
    "import subprocess\n",
    "import shutil\n",
    "%pwd"
   ],
   "metadata": {
    "id": "dr_SWF44nUEU",
    "colab": {
     "base_uri": "https://localhost:8080/",
     "height": 35
    },
    "outputId": "c4427247-58e7-48d0-fae9-72115782faf4"
   },
   "execution_count": null,
   "outputs": [
    {
     "output_type": "execute_result",
     "data": {
      "application/vnd.google.colaboratory.intrinsic+json": {
       "type": "string"
      },
      "text/plain": [
       "'/content'"
      ]
     },
     "metadata": {},
     "execution_count": 1
    }
   ]
  },
  {
   "cell_type": "markdown",
   "source": [
    "# Creat Training Data"
   ],
   "metadata": {
    "id": "wdHvz1nF8jQO"
   }
  },
  {
   "cell_type": "code",
   "source": [
    "!git clone https://github.com/antoine77340/video_feature_extractor"
   ],
   "metadata": {
    "colab": {
     "base_uri": "https://localhost:8080/"
    },
    "id": "j3ylbWDk8RR9",
    "outputId": "a2a3ed30-ba24-4aff-a8ff-c5568349b278"
   },
   "execution_count": null,
   "outputs": [
    {
     "output_type": "stream",
     "name": "stdout",
     "text": [
      "Cloning into 'video_feature_extractor'...\n",
      "remote: Enumerating objects: 101, done.\u001B[K\n",
      "remote: Total 101 (delta 0), reused 0 (delta 0), pack-reused 101\u001B[K\n",
      "Receiving objects: 100% (101/101), 163.69 KiB | 5.11 MiB/s, done.\n",
      "Resolving deltas: 100% (44/44), done.\n"
     ]
    }
   ]
  },
  {
   "cell_type": "code",
   "source": [
    "%cd video_feature_extractor"
   ],
   "metadata": {
    "id": "wu3OOX5NeuyL",
    "colab": {
     "base_uri": "https://localhost:8080/"
    },
    "outputId": "b54fee1a-a3a3-42c0-fe8b-7912bf4cfede"
   },
   "execution_count": null,
   "outputs": [
    {
     "output_type": "stream",
     "name": "stdout",
     "text": [
      "/content/drive/MyDrive/freelance/heart_classification_unsupervised_learning/video_feature_extractor\n"
     ]
    }
   ]
  },
  {
   "cell_type": "code",
   "source": [
    "features_folder = Path('./features')\n",
    "features_folder.mkdir(exist_ok=True)\n",
    "data = []\n"
   ],
   "metadata": {
    "id": "uBGI4WA081le"
   },
   "execution_count": null,
   "outputs": []
  },
  {
   "cell_type": "code",
   "source": [
    "folder = Path('../AllVideos/')\n",
    "files = sorted(folder.glob('*'), key=lambda x: x.name)\n",
    "len(files)"
   ],
   "metadata": {
    "colab": {
     "base_uri": "https://localhost:8080/"
    },
    "id": "BwdT5pzO_ME0",
    "outputId": "c0740241-c7c4-4ec7-a9f3-c3eb22719d71"
   },
   "execution_count": null,
   "outputs": [
    {
     "output_type": "execute_result",
     "data": {
      "text/plain": [
       "5508"
      ]
     },
     "metadata": {},
     "execution_count": 17
    }
   ]
  },
  {
   "cell_type": "code",
   "source": [
    "for v in files:\n",
    "    npy_file = features_folder / v.with_suffix('.npy').name\n",
    "    data.append([str(v),  str(npy_file)])\n",
    "\n",
    "\n",
    "df = pd.DataFrame(data, columns=['video_path', 'feature_path'])\n",
    "df.to_csv('videos_npy.csv', index=False)\n"
   ],
   "metadata": {
    "id": "naSwtWWD8tIe"
   },
   "execution_count": null,
   "outputs": []
  },
  {
   "cell_type": "code",
   "source": [
    "!python extract.py --csv=videos_npy.csv --type=2d --batch_size=64 --num_decoding_thread=8"
   ],
   "metadata": {
    "id": "G1lWBl_m9Haq"
   },
   "execution_count": null,
   "outputs": []
  },
  {
   "cell_type": "code",
   "source": [
    "len(list(features_folder.glob('*')))"
   ],
   "metadata": {
    "colab": {
     "base_uri": "https://localhost:8080/"
    },
    "id": "TU-Yb-A49rFC",
    "outputId": "111f3e94-8721-403d-9a9d-7abb6532258c"
   },
   "execution_count": null,
   "outputs": [
    {
     "output_type": "execute_result",
     "data": {
      "text/plain": [
       "5505"
      ]
     },
     "metadata": {},
     "execution_count": 21
    }
   ]
  },
  {
   "cell_type": "code",
   "source": [
    "%pwd"
   ],
   "metadata": {
    "colab": {
     "base_uri": "https://localhost:8080/",
     "height": 35
    },
    "id": "wq31JxTtZx03",
    "outputId": "59b15191-d41e-4e2a-f7ee-8582e5f81c8c"
   },
   "execution_count": null,
   "outputs": [
    {
     "output_type": "execute_result",
     "data": {
      "application/vnd.google.colaboratory.intrinsic+json": {
       "type": "string"
      },
      "text/plain": [
       "'/content/drive/MyDrive/freelance/heart_classification_unsupervised_learning/video_feature_extractor'"
      ]
     },
     "metadata": {},
     "execution_count": 22
    }
   ]
  },
  {
   "cell_type": "code",
   "source": [
    "numpy_arr = []\n",
    "all_numpy_files = sorted(features_folder.glob('*'), \n",
    "                         key=lambda f: f.name)\n",
    "\n",
    "for npy_file in tqdm(all_numpy_files):\n",
    "    arr = np.load(npy_file)\n",
    "    h, w = arr.shape\n",
    "    if h*w != 10*2048:\n",
    "        continue\n",
    "\n",
    "    numpy_arr.append(arr)\n",
    "\n",
    "\n",
    "numpy_arr = np.array(numpy_arr, dtype=float)\n",
    "numpy_arr.shape\n"
   ],
   "metadata": {
    "colab": {
     "base_uri": "https://localhost:8080/",
     "height": 66,
     "referenced_widgets": [
      "53bd7dbd9d4f40acaa8a06763f591747",
      "9dc4bde4a27e428fa71abd79dc6977d9",
      "8efbfca3bbd04045ab3e4f4480d6cb9c",
      "0ded42cc6d164baa93f0b6c66623187e",
      "03d13750401b416da5e0bf822cf6bdd6",
      "4acd24073cdb443c92702540e75d6ffd",
      "51eea341f12c4dc4a81bf0a5c313c200",
      "a6dbf2f8ae984689b4c05102c60edfc7",
      "394cd9d93ab34b66881b339c5debf337",
      "f4c78b7508a945ca89aa2334b81b1137",
      "ffa8e8a9b1404799815f048e5aa3c3d7"
     ]
    },
    "id": "Jmv6A3gr-J96",
    "outputId": "21d3e8fc-0195-4560-bc01-1bf6d38c8164"
   },
   "execution_count": null,
   "outputs": [
    {
     "output_type": "display_data",
     "data": {
      "application/vnd.jupyter.widget-view+json": {
       "model_id": "53bd7dbd9d4f40acaa8a06763f591747",
       "version_minor": 0,
       "version_major": 2
      },
      "text/plain": [
       "  0%|          | 0/5505 [00:00<?, ?it/s]"
      ]
     },
     "metadata": {}
    },
    {
     "output_type": "execute_result",
     "data": {
      "text/plain": [
       "(5476, 10, 2048)"
      ]
     },
     "metadata": {},
     "execution_count": 27
    }
   ]
  },
  {
   "cell_type": "code",
   "source": [
    "with open('all_data.npy', 'wb') as fp:\n",
    "    np.save(fp, numpy_arr)"
   ],
   "metadata": {
    "id": "YKrN-OW_aQNv"
   },
   "execution_count": null,
   "outputs": []
  },
  {
   "cell_type": "markdown",
   "source": [
    "# Start Training K-Means"
   ],
   "metadata": {
    "id": "Yxz_xsLoaupn"
   }
  },
  {
   "cell_type": "code",
   "source": [
    "data = np.load('./all_data.npy').reshape((-1, 20480))\n",
    "data.shape"
   ],
   "metadata": {
    "colab": {
     "base_uri": "https://localhost:8080/"
    },
    "id": "DLef6bkuaj9e",
    "outputId": "5f9d2fac-dd89-4514-e2e2-c08641173fea"
   },
   "execution_count": null,
   "outputs": [
    {
     "output_type": "execute_result",
     "data": {
      "text/plain": [
       "(5476, 20480)"
      ]
     },
     "metadata": {},
     "execution_count": 29
    }
   ]
  },
  {
   "cell_type": "code",
   "source": [
    "errors = []\n",
    "for i in tqdm(range(1,51)):\n",
    "    model = KMeans(n_clusters=i, init='k-means++')\n",
    "    model.fit(data)\n",
    "    errors.append(model.inertia_)\n",
    "\n",
    "plt.plot(errors);"
   ],
   "metadata": {
    "colab": {
     "base_uri": "https://localhost:8080/",
     "height": 297,
     "referenced_widgets": [
      "8673d154899f432f918facda57f17f42",
      "018930a7b01c4a25a586a893d30cd859",
      "0b58a89e75344bf2b32eef178e415e83",
      "2004ebcbc97b4aeb9d7685486a5c8c3b",
      "fd24f6607dbb4304a86de5ac7acd40ea",
      "ba781c23fa1849858407e8a21b4c89d8",
      "46808983ed4a436fa3cedcaf14f8755d",
      "74f48e186ded4019b5e9abad66cdff97",
      "59eff685d539476184a1edbdacb74dc3",
      "fd42cc67001141d991f9e2614ca5a9cf",
      "6f0f159ad03941efbb43c6e8d76284a9"
     ]
    },
    "id": "U6-aqkRDfve4",
    "outputId": "fd50ab49-ff56-49c9-bf63-1c922825a4e2"
   },
   "execution_count": null,
   "outputs": [
    {
     "data": {
      "application/vnd.jupyter.widget-view+json": {
       "model_id": "8673d154899f432f918facda57f17f42",
       "version_major": 2,
       "version_minor": 0
      },
      "text/plain": [
       "  0%|          | 0/50 [00:00<?, ?it/s]"
      ]
     },
     "metadata": {},
     "output_type": "display_data"
    },
    {
     "output_type": "display_data",
     "data": {
      "image/png": "[encoded data removed]",
      "text/plain": [
       "<Figure size 432x288 with 1 Axes>"
      ]
     },
     "metadata": {
      "needs_background": "light"
     }
    }
   ]
  },
  {
   "cell_type": "code",
   "source": [
    "!rm -r ./features"
   ],
   "metadata": {
    "id": "K8u8oTGa9Dzx"
   },
   "execution_count": null,
   "outputs": []
  },
  {
   "cell_type": "markdown",
   "source": [
    "# K-Means with 10 Clusters ==> 1275.99 inertia_\n",
    "# K-Means with 20 Clusters ==> 1149.59 inertia_"
   ],
   "metadata": {
    "id": "xEAB6lFUFoiz"
   }
  },
  {
   "cell_type": "code",
   "source": [
    "trained_model.inertia_"
   ],
   "metadata": {
    "colab": {
     "base_uri": "https://localhost:8080/"
    },
    "id": "nbE6cmglFaTF",
    "outputId": "010a8612-aa43-4bde-a347-0a538a872d31"
   },
   "execution_count": null,
   "outputs": [
    {
     "output_type": "execute_result",
     "data": {
      "text/plain": [
       "1275.9998740260735"
      ]
     },
     "metadata": {},
     "execution_count": 47
    }
   ]
  },
  {
   "cell_type": "code",
   "source": [
    "from sklearn.cluster import KMeans\n",
    "\n",
    "trained_model = KMeans(10, verbose=1)\n",
    "trained_model.fit(data)"
   ],
   "metadata": {
    "colab": {
     "base_uri": "https://localhost:8080/"
    },
    "id": "f94tWGaAa4bp",
    "outputId": "6be35f7f-eaeb-4057-df13-83447f302970"
   },
   "execution_count": null,
   "outputs": [
    {
     "output_type": "stream",
     "name": "stdout",
     "text": [
      "Initialization complete\n",
      "Iteration 0, inertia 2213.1335391104567\n",
      "Iteration 1, inertia 1337.3353447723412\n",
      "Iteration 2, inertia 1313.6017361442814\n",
      "Iteration 3, inertia 1307.5201724889237\n",
      "Iteration 4, inertia 1304.6417712051075\n",
      "Iteration 5, inertia 1301.982052962317\n",
      "Iteration 6, inertia 1299.4822738787793\n",
      "Iteration 7, inertia 1297.2845928999752\n",
      "Iteration 8, inertia 1295.3249021995575\n",
      "Iteration 9, inertia 1293.8962045019377\n",
      "Iteration 10, inertia 1292.490207177053\n",
      "Iteration 11, inertia 1291.4584645291084\n",
      "Iteration 12, inertia 1290.9043187630764\n",
      "Iteration 13, inertia 1290.1868371870723\n",
      "Iteration 14, inertia 1289.5886617264937\n",
      "Iteration 15, inertia 1289.0006912911722\n",
      "Iteration 16, inertia 1288.8408808243362\n",
      "Iteration 17, inertia 1288.7986322321606\n",
      "Iteration 18, inertia 1288.7530784857336\n",
      "Iteration 19, inertia 1288.717437958824\n",
      "Iteration 20, inertia 1288.69527452846\n",
      "Iteration 21, inertia 1288.677384083736\n",
      "Iteration 22, inertia 1288.6526711018\n",
      "Iteration 23, inertia 1288.6266120637733\n",
      "Iteration 24, inertia 1288.6004519803732\n",
      "Iteration 25, inertia 1288.567467724522\n",
      "Iteration 26, inertia 1288.5464698825294\n",
      "Iteration 27, inertia 1288.530630692607\n",
      "Iteration 28, inertia 1288.5192895077394\n",
      "Iteration 29, inertia 1288.5120472954923\n",
      "Iteration 30, inertia 1288.5069298870403\n",
      "Iteration 31, inertia 1288.5050867022132\n",
      "Iteration 32, inertia 1288.4993589808882\n",
      "Iteration 33, inertia 1288.4842140490932\n",
      "Iteration 34, inertia 1288.4688310676152\n",
      "Iteration 35, inertia 1288.4599562698606\n",
      "Iteration 36, inertia 1288.4483213193366\n",
      "Iteration 37, inertia 1288.443899743002\n",
      "Iteration 38, inertia 1288.4414216441255\n",
      "Iteration 39, inertia 1288.4368964863843\n",
      "Iteration 40, inertia 1288.4361299235595\n",
      "Converged at iteration 40: strict convergence.\n",
      "Initialization complete\n",
      "Iteration 0, inertia 2209.978365115173\n",
      "Iteration 1, inertia 1346.2770903060027\n",
      "Iteration 2, inertia 1318.63232932835\n",
      "Iteration 3, inertia 1308.1073405422285\n",
      "Iteration 4, inertia 1303.2500133443527\n",
      "Iteration 5, inertia 1300.8508060011586\n",
      "Iteration 6, inertia 1299.2136972221924\n",
      "Iteration 7, inertia 1298.1312993542688\n",
      "Iteration 8, inertia 1297.1984787312808\n",
      "Iteration 9, inertia 1296.378605288937\n",
      "Iteration 10, inertia 1295.468252984077\n",
      "Iteration 11, inertia 1294.3535297713775\n",
      "Iteration 12, inertia 1293.6770032941606\n",
      "Iteration 13, inertia 1292.9369069384516\n",
      "Iteration 14, inertia 1292.0926387412678\n",
      "Iteration 15, inertia 1291.0773825919828\n",
      "Iteration 16, inertia 1290.3101299852483\n",
      "Iteration 17, inertia 1289.152760829178\n",
      "Iteration 18, inertia 1288.942094593911\n",
      "Iteration 19, inertia 1288.7872278270897\n",
      "Iteration 20, inertia 1288.7350758376342\n",
      "Iteration 21, inertia 1288.6988491795128\n",
      "Iteration 22, inertia 1288.6841084110115\n",
      "Iteration 23, inertia 1288.6771645862473\n",
      "Converged at iteration 23: strict convergence.\n",
      "Initialization complete\n",
      "Iteration 0, inertia 2251.31376915923\n",
      "Iteration 1, inertia 1344.8660262069563\n",
      "Iteration 2, inertia 1321.632090898142\n",
      "Iteration 3, inertia 1317.120993980489\n",
      "Iteration 4, inertia 1314.087851096665\n",
      "Iteration 5, inertia 1310.5014670843357\n",
      "Iteration 6, inertia 1307.0595556797243\n",
      "Iteration 7, inertia 1303.0088466533257\n",
      "Iteration 8, inertia 1299.5748221422411\n",
      "Iteration 9, inertia 1297.807750415363\n",
      "Iteration 10, inertia 1296.359939991863\n",
      "Iteration 11, inertia 1295.114104718345\n",
      "Iteration 12, inertia 1294.037883999968\n",
      "Iteration 13, inertia 1292.8964895758031\n",
      "Iteration 14, inertia 1291.630893540154\n",
      "Iteration 15, inertia 1290.5025662739959\n",
      "Iteration 16, inertia 1289.7033011755461\n",
      "Iteration 17, inertia 1289.2929450064016\n",
      "Iteration 18, inertia 1289.0120111556785\n",
      "Iteration 19, inertia 1288.8370491921441\n",
      "Iteration 20, inertia 1288.7357676363763\n",
      "Iteration 21, inertia 1288.6543620046052\n",
      "Iteration 22, inertia 1288.5769323600803\n",
      "Iteration 23, inertia 1288.5238169053255\n",
      "Iteration 24, inertia 1288.4809634651103\n",
      "Iteration 25, inertia 1288.4218405599054\n",
      "Iteration 26, inertia 1288.3618369433984\n",
      "Iteration 27, inertia 1288.3423129432722\n",
      "Iteration 28, inertia 1288.3287938223543\n",
      "Iteration 29, inertia 1288.2940812969068\n",
      "Iteration 30, inertia 1288.2558903296158\n",
      "Iteration 31, inertia 1288.241638382227\n",
      "Iteration 32, inertia 1288.2345038506396\n",
      "Converged at iteration 32: strict convergence.\n",
      "Initialization complete\n",
      "Iteration 0, inertia 2138.528321486042\n",
      "Iteration 1, inertia 1346.0512556993322\n",
      "Iteration 2, inertia 1332.5182479928017\n",
      "Iteration 3, inertia 1325.9667194414274\n",
      "Iteration 4, inertia 1321.7088160489784\n",
      "Iteration 5, inertia 1318.7685393455997\n",
      "Iteration 6, inertia 1316.8131964006661\n",
      "Iteration 7, inertia 1315.4559848351041\n",
      "Iteration 8, inertia 1314.361985518431\n",
      "Iteration 9, inertia 1313.2212025678637\n",
      "Iteration 10, inertia 1312.1849256300115\n",
      "Iteration 11, inertia 1311.2097688195227\n",
      "Iteration 12, inertia 1310.3084751501028\n",
      "Iteration 13, inertia 1309.4008348054417\n",
      "Iteration 14, inertia 1308.3109357548058\n",
      "Iteration 15, inertia 1307.2168863068778\n",
      "Iteration 16, inertia 1306.21133435083\n",
      "Iteration 17, inertia 1305.441128800424\n",
      "Iteration 18, inertia 1304.928832471899\n",
      "Iteration 19, inertia 1304.529892143397\n",
      "Iteration 20, inertia 1304.1561419659283\n",
      "Iteration 21, inertia 1303.8953016293435\n",
      "Iteration 22, inertia 1303.6307168253966\n",
      "Iteration 23, inertia 1303.4734578935208\n",
      "Iteration 24, inertia 1303.3631340575357\n",
      "Iteration 25, inertia 1303.2506935666934\n",
      "Iteration 26, inertia 1303.1046882055964\n",
      "Iteration 27, inertia 1302.9766034837985\n",
      "Iteration 28, inertia 1302.919876667991\n",
      "Iteration 29, inertia 1302.8062822977959\n",
      "Iteration 30, inertia 1302.7176598600659\n",
      "Iteration 31, inertia 1302.6554911161597\n",
      "Iteration 32, inertia 1302.5974276221316\n",
      "Iteration 33, inertia 1302.5652598449599\n",
      "Iteration 34, inertia 1302.5413113585832\n",
      "Iteration 35, inertia 1302.5116313788494\n",
      "Iteration 36, inertia 1302.5067974898516\n",
      "Iteration 37, inertia 1302.4982661924387\n",
      "Iteration 38, inertia 1302.4941249417443\n",
      "Iteration 39, inertia 1302.4925225935972\n",
      "Converged at iteration 39: strict convergence.\n",
      "Initialization complete\n",
      "Iteration 0, inertia 2222.3458893054603\n",
      "Iteration 1, inertia 1333.2742073522854\n",
      "Iteration 2, inertia 1312.6972941330582\n",
      "Iteration 3, inertia 1302.8709165141215\n",
      "Iteration 4, inertia 1297.346619249738\n",
      "Iteration 5, inertia 1294.5092449099388\n",
      "Iteration 6, inertia 1292.9331294315684\n",
      "Iteration 7, inertia 1292.0824522123203\n",
      "Iteration 8, inertia 1291.5967854616947\n",
      "Iteration 9, inertia 1291.3026752777596\n",
      "Iteration 10, inertia 1291.0572750776264\n",
      "Iteration 11, inertia 1290.9499576880967\n",
      "Iteration 12, inertia 1290.8635253741945\n",
      "Iteration 13, inertia 1290.785378516416\n",
      "Iteration 14, inertia 1290.6662031945334\n",
      "Iteration 15, inertia 1290.5548821936297\n",
      "Iteration 16, inertia 1290.4655988561308\n",
      "Iteration 17, inertia 1290.3629347252577\n",
      "Iteration 18, inertia 1290.289231465692\n",
      "Iteration 19, inertia 1290.2488075808349\n",
      "Iteration 20, inertia 1290.210019688096\n",
      "Iteration 21, inertia 1290.145410734147\n",
      "Iteration 22, inertia 1290.08892698623\n",
      "Iteration 23, inertia 1290.0192025259594\n",
      "Iteration 24, inertia 1289.938568410997\n",
      "Iteration 25, inertia 1289.853509061566\n",
      "Iteration 26, inertia 1289.8037828633474\n",
      "Iteration 27, inertia 1289.7740273873892\n",
      "Iteration 28, inertia 1289.7424341064666\n",
      "Iteration 29, inertia 1289.7256841549956\n",
      "Iteration 30, inertia 1289.7144074839048\n",
      "Iteration 31, inertia 1289.7051563154482\n",
      "Iteration 32, inertia 1289.6978696983717\n",
      "Iteration 33, inertia 1289.693628359907\n",
      "Iteration 34, inertia 1289.6910424190019\n",
      "Iteration 35, inertia 1289.6879228661933\n",
      "Iteration 36, inertia 1289.6861224054162\n",
      "Iteration 37, inertia 1289.684794338422\n",
      "Converged at iteration 37: strict convergence.\n",
      "Initialization complete\n",
      "Iteration 0, inertia 2205.5745585697937\n",
      "Iteration 1, inertia 1347.86645377182\n",
      "Iteration 2, inertia 1309.891872640937\n",
      "Iteration 3, inertia 1302.2852592901995\n",
      "Iteration 4, inertia 1298.5975462429935\n",
      "Iteration 5, inertia 1295.2053709332904\n",
      "Iteration 6, inertia 1292.9756944400829\n",
      "Iteration 7, inertia 1290.9666047652127\n",
      "Iteration 8, inertia 1289.670018752517\n",
      "Iteration 9, inertia 1288.4756748522825\n",
      "Iteration 10, inertia 1287.5882455654082\n",
      "Iteration 11, inertia 1286.5653062933093\n",
      "Iteration 12, inertia 1285.5081495130692\n",
      "Iteration 13, inertia 1284.4882989925522\n",
      "Iteration 14, inertia 1283.543660469097\n",
      "Iteration 15, inertia 1282.6933529910152\n",
      "Iteration 16, inertia 1281.7395673799576\n",
      "Iteration 17, inertia 1281.1234331016735\n",
      "Iteration 18, inertia 1280.5429368963275\n",
      "Iteration 19, inertia 1280.167038341852\n",
      "Iteration 20, inertia 1279.842928741826\n",
      "Iteration 21, inertia 1279.7452523137251\n",
      "Iteration 22, inertia 1279.698712738889\n",
      "Iteration 23, inertia 1279.6880203161736\n",
      "Iteration 24, inertia 1279.6807362472139\n",
      "Iteration 25, inertia 1279.6795201045943\n",
      "Iteration 26, inertia 1279.6779060471376\n",
      "Iteration 27, inertia 1279.6740881321193\n",
      "Iteration 28, inertia 1279.6732114696401\n",
      "Converged at iteration 28: strict convergence.\n",
      "Initialization complete\n",
      "Iteration 0, inertia 2166.2326292135162\n",
      "Iteration 1, inertia 1336.4540427538268\n",
      "Iteration 2, inertia 1316.6978727571573\n",
      "Iteration 3, inertia 1313.1395813872477\n",
      "Iteration 4, inertia 1311.4051363378558\n",
      "Iteration 5, inertia 1309.6150257141774\n",
      "Iteration 6, inertia 1308.0349774474917\n",
      "Iteration 7, inertia 1306.1453151134567\n",
      "Iteration 8, inertia 1303.7939329270682\n",
      "Iteration 9, inertia 1302.2044910497093\n",
      "Iteration 10, inertia 1301.1502635607217\n",
      "Iteration 11, inertia 1300.3279203677166\n",
      "Iteration 12, inertia 1299.7070462568358\n",
      "Iteration 13, inertia 1298.9695398286922\n",
      "Iteration 14, inertia 1297.9652531326444\n",
      "Iteration 15, inertia 1297.322934819946\n",
      "Iteration 16, inertia 1296.7327341460864\n",
      "Iteration 17, inertia 1295.7096566955024\n",
      "Iteration 18, inertia 1294.730732989506\n",
      "Iteration 19, inertia 1293.9222929241655\n",
      "Iteration 20, inertia 1292.9089150864643\n",
      "Iteration 21, inertia 1292.057629916651\n",
      "Iteration 22, inertia 1291.4348338722073\n",
      "Iteration 23, inertia 1290.437825088318\n",
      "Iteration 24, inertia 1289.45723378303\n",
      "Iteration 25, inertia 1288.9923850699624\n",
      "Iteration 26, inertia 1288.436715494886\n",
      "Iteration 27, inertia 1287.669326701629\n",
      "Iteration 28, inertia 1287.3826262622338\n",
      "Iteration 29, inertia 1287.1732589557832\n",
      "Iteration 30, inertia 1287.1460259491325\n",
      "Iteration 31, inertia 1287.1374627551222\n",
      "Iteration 32, inertia 1287.1315948011602\n",
      "Iteration 33, inertia 1287.126657671639\n",
      "Iteration 34, inertia 1287.1231360165225\n",
      "Converged at iteration 34: strict convergence.\n",
      "Initialization complete\n",
      "Iteration 0, inertia 2257.9433013046714\n",
      "Iteration 1, inertia 1352.0249690506807\n",
      "Iteration 2, inertia 1322.5754666362423\n",
      "Iteration 3, inertia 1315.735800557709\n",
      "Iteration 4, inertia 1308.2284247527095\n",
      "Iteration 5, inertia 1304.1833369669603\n",
      "Iteration 6, inertia 1301.693647885581\n",
      "Iteration 7, inertia 1300.1124439338264\n",
      "Iteration 8, inertia 1298.8642623964208\n",
      "Iteration 9, inertia 1298.1912278370874\n",
      "Iteration 10, inertia 1297.6034771810782\n",
      "Iteration 11, inertia 1297.1767881520768\n",
      "Iteration 12, inertia 1296.613625802292\n",
      "Iteration 13, inertia 1296.14377054948\n",
      "Iteration 14, inertia 1295.3890069289687\n",
      "Iteration 15, inertia 1294.5656338831768\n",
      "Iteration 16, inertia 1293.6408866412476\n",
      "Iteration 17, inertia 1292.5753719803524\n",
      "Iteration 18, inertia 1291.8304345359427\n",
      "Iteration 19, inertia 1291.2208857819546\n",
      "Iteration 20, inertia 1290.6387875445248\n",
      "Iteration 21, inertia 1289.944805365641\n",
      "Iteration 22, inertia 1289.216757485832\n",
      "Iteration 23, inertia 1288.48909650283\n",
      "Iteration 24, inertia 1287.8967892988994\n",
      "Iteration 25, inertia 1287.3537457017433\n",
      "Iteration 26, inertia 1286.96556180888\n",
      "Iteration 27, inertia 1286.6922321746792\n",
      "Iteration 28, inertia 1286.520335340833\n",
      "Iteration 29, inertia 1286.3645543871985\n",
      "Iteration 30, inertia 1286.2583007643698\n",
      "Iteration 31, inertia 1286.1730544997545\n",
      "Iteration 32, inertia 1286.107429052341\n",
      "Iteration 33, inertia 1286.065768782573\n",
      "Iteration 34, inertia 1286.023233988554\n",
      "Iteration 35, inertia 1285.995543732934\n",
      "Iteration 36, inertia 1285.965606378811\n",
      "Iteration 37, inertia 1285.9164332135824\n",
      "Iteration 38, inertia 1285.8767146685054\n",
      "Iteration 39, inertia 1285.8413879261193\n",
      "Iteration 40, inertia 1285.7539537195057\n",
      "Iteration 41, inertia 1285.696540500081\n",
      "Iteration 42, inertia 1285.625596618438\n",
      "Iteration 43, inertia 1285.5966566633547\n",
      "Iteration 44, inertia 1285.5664319879315\n",
      "Iteration 45, inertia 1285.526596608085\n",
      "Iteration 46, inertia 1285.5188355900182\n",
      "Iteration 47, inertia 1285.5107834089931\n",
      "Iteration 48, inertia 1285.4981435858977\n",
      "Iteration 49, inertia 1285.4894200246931\n",
      "Iteration 50, inertia 1285.4685594138869\n",
      "Iteration 51, inertia 1285.456531980191\n",
      "Iteration 52, inertia 1285.4491354918882\n",
      "Iteration 53, inertia 1285.427923173365\n",
      "Iteration 54, inertia 1285.409499589726\n",
      "Iteration 55, inertia 1285.3811118868055\n",
      "Iteration 56, inertia 1285.352708250294\n",
      "Iteration 57, inertia 1285.3175274577068\n",
      "Iteration 58, inertia 1285.3064974149024\n",
      "Iteration 59, inertia 1285.3048772633078\n",
      "Converged at iteration 59: strict convergence.\n",
      "Initialization complete\n",
      "Iteration 0, inertia 2209.7106026617776\n",
      "Iteration 1, inertia 1364.052674398605\n",
      "Iteration 2, inertia 1337.356994248109\n",
      "Iteration 3, inertia 1325.9024023474324\n",
      "Iteration 4, inertia 1317.112051313642\n",
      "Iteration 5, inertia 1313.0804355471278\n",
      "Iteration 6, inertia 1310.6381927433963\n",
      "Iteration 7, inertia 1308.7016503070051\n",
      "Iteration 8, inertia 1307.0065968911854\n",
      "Iteration 9, inertia 1305.3983233659524\n",
      "Iteration 10, inertia 1303.6999894074347\n",
      "Iteration 11, inertia 1302.1984276516973\n",
      "Iteration 12, inertia 1300.6853171552\n",
      "Iteration 13, inertia 1299.4539470396535\n",
      "Iteration 14, inertia 1298.1951055057266\n",
      "Iteration 15, inertia 1297.2275600167409\n",
      "Iteration 16, inertia 1296.3004019529994\n",
      "Iteration 17, inertia 1294.9594028363729\n",
      "Iteration 18, inertia 1293.9493097389154\n",
      "Iteration 19, inertia 1292.9877524424478\n",
      "Iteration 20, inertia 1291.9549379353316\n",
      "Iteration 21, inertia 1291.054387573707\n",
      "Iteration 22, inertia 1290.1849581371653\n",
      "Iteration 23, inertia 1289.297342380627\n",
      "Iteration 24, inertia 1288.0954882000653\n",
      "Iteration 25, inertia 1287.0481896299434\n",
      "Iteration 26, inertia 1285.9128612826048\n",
      "Iteration 27, inertia 1284.9126650385351\n",
      "Iteration 28, inertia 1283.7548155075808\n",
      "Iteration 29, inertia 1282.9377850751457\n",
      "Iteration 30, inertia 1282.2511990184134\n",
      "Iteration 31, inertia 1281.3890743038992\n",
      "Iteration 32, inertia 1280.926569615599\n",
      "Iteration 33, inertia 1280.3555718506545\n",
      "Iteration 34, inertia 1280.0199860631328\n",
      "Iteration 35, inertia 1279.7664708752009\n",
      "Iteration 36, inertia 1279.7317780588678\n",
      "Iteration 37, inertia 1279.7178976036107\n",
      "Iteration 38, inertia 1279.704082232056\n",
      "Iteration 39, inertia 1279.6885948364663\n",
      "Iteration 40, inertia 1279.6816143099659\n",
      "Iteration 41, inertia 1279.6806898494679\n",
      "Iteration 42, inertia 1279.672260367216\n",
      "Converged at iteration 42: strict convergence.\n",
      "Initialization complete\n",
      "Iteration 0, inertia 2225.1562416823353\n",
      "Iteration 1, inertia 1341.0277571150004\n",
      "Iteration 2, inertia 1314.2749090784982\n",
      "Iteration 3, inertia 1301.1341560261217\n",
      "Iteration 4, inertia 1293.058692156334\n",
      "Iteration 5, inertia 1288.8565714365263\n",
      "Iteration 6, inertia 1285.9606947136444\n",
      "Iteration 7, inertia 1283.9156275279688\n",
      "Iteration 8, inertia 1281.8163067203848\n",
      "Iteration 9, inertia 1280.4453906078106\n",
      "Iteration 10, inertia 1279.2211768292068\n",
      "Iteration 11, inertia 1278.4118283420835\n",
      "Iteration 12, inertia 1277.472422800307\n",
      "Iteration 13, inertia 1276.7423207094332\n",
      "Iteration 14, inertia 1276.3192233880127\n",
      "Iteration 15, inertia 1276.165390223684\n",
      "Iteration 16, inertia 1276.1053568074494\n",
      "Iteration 17, inertia 1276.0552328061817\n",
      "Iteration 18, inertia 1276.0319051622675\n",
      "Iteration 19, inertia 1276.0187131910398\n",
      "Iteration 20, inertia 1276.0030225802398\n",
      "Iteration 21, inertia 1275.9998740260735\n",
      "Converged at iteration 21: strict convergence.\n"
     ]
    },
    {
     "output_type": "execute_result",
     "data": {
      "text/plain": [
       "KMeans(n_clusters=10, verbose=1)"
      ]
     },
     "metadata": {},
     "execution_count": 46
    }
   ]
  },
  {
   "cell_type": "code",
   "source": [
    "predicted = trained_model.predict(data)\n"
   ],
   "metadata": {
    "id": "E_YX2bT_a8rO"
   },
   "execution_count": null,
   "outputs": []
  },
  {
   "cell_type": "code",
   "source": [
    "import random\n",
    "all_available_plt_colors = range(31)\n",
    "colors = random.sample(all_available_plt_colors, \n",
    "                       trained_model.n_clusters)\n"
   ],
   "metadata": {
    "id": "3VNf8wbGePDa"
   },
   "execution_count": null,
   "outputs": []
  },
  {
   "cell_type": "code",
   "source": [
    "plt.scatter(range(data.shape[0]), predicted, c=predicted, alpha=0.6, s=50)\n"
   ],
   "metadata": {
    "colab": {
     "base_uri": "https://localhost:8080/",
     "height": 283
    },
    "id": "gFHpaVJSeTLp",
    "outputId": "b719998c-8a9c-4e22-95f5-c039920f7efb"
   },
   "execution_count": null,
   "outputs": [
    {
     "output_type": "execute_result",
     "data": {
      "text/plain": [
       "<matplotlib.collections.PathCollection at 0x7ff50af0aa90>"
      ]
     },
     "metadata": {},
     "execution_count": 53
    },
    {
     "output_type": "display_data",
     "data": {
      "image/png": "[encoded data removed]",
      "text/plain": [
       "<Figure size 432x288 with 1 Axes>"
      ]
     },
     "metadata": {
      "needs_background": "light"
     }
    }
   ]
  },
  {
   "cell_type": "code",
   "source": [
    "from sklearn.decomposition import PCA"
   ],
   "metadata": {
    "id": "BDWhYVwGeiuq"
   },
   "execution_count": null,
   "outputs": []
  },
  {
   "cell_type": "code",
   "source": [
    "pca = PCA(n_components=2).fit(data)\n",
    "pca_2d = pca.transform(data)"
   ],
   "metadata": {
    "id": "-JYjtrlcfH5Y"
   },
   "execution_count": null,
   "outputs": []
  },
  {
   "cell_type": "code",
   "source": [
    "X = pca_2d[:,0]\n",
    "Y = pca_2d[:,1]\n",
    "plt.scatter(X, Y, c=predicted, alpha=0.6, s=50)\n"
   ],
   "metadata": {
    "colab": {
     "base_uri": "https://localhost:8080/",
     "height": 283
    },
    "id": "nloz3KGUfPDI",
    "outputId": "cb476545-cf55-4cf3-dba2-b3bdd7d97e22"
   },
   "execution_count": null,
   "outputs": [
    {
     "output_type": "execute_result",
     "data": {
      "text/plain": [
       "<matplotlib.collections.PathCollection at 0x7ff4f2979d10>"
      ]
     },
     "metadata": {},
     "execution_count": 51
    },
    {
     "output_type": "display_data",
     "data": {
      "image/png": "[encoded data removed]",
      "text/plain": [
       "<Figure size 432x288 with 1 Axes>"
      ]
     },
     "metadata": {
      "needs_background": "light"
     }
    }
   ]
  },
  {
   "cell_type": "code",
   "source": [
    "trained_model.n_clusters"
   ],
   "metadata": {
    "colab": {
     "base_uri": "https://localhost:8080/"
    },
    "id": "Nv4HmAhBHvxh",
    "outputId": "7f751848-7899-4d7d-ccaa-c43ade839544"
   },
   "execution_count": null,
   "outputs": [
    {
     "output_type": "execute_result",
     "data": {
      "text/plain": [
       "10"
      ]
     },
     "metadata": {},
     "execution_count": 54
    }
   ]
  },
  {
   "cell_type": "code",
   "source": [
    "with open(\"k-means_10_clusters.pkl\", \"wb\") as f:\n",
    "    pickle.dump(trained_model, f)"
   ],
   "metadata": {
    "id": "003Sd3eofkBo"
   },
   "execution_count": null,
   "outputs": []
  },
  {
   "cell_type": "markdown",
   "source": [
    "# Loading Trained Model"
   ],
   "metadata": {
    "id": "xsa6usDlZqaY"
   }
  },
  {
   "cell_type": "code",
   "source": [
    "%cd video_feature_extractor/"
   ],
   "metadata": {
    "id": "lg-QS50_H2gv",
    "colab": {
     "base_uri": "https://localhost:8080/"
    },
    "outputId": "dd88a0e2-e819-4a5c-d326-1e3378a93253"
   },
   "execution_count": null,
   "outputs": [
    {
     "output_type": "stream",
     "name": "stdout",
     "text": [
      "/content/drive/MyDrive/freelance/heart_classification_unsupervised_learning/video_feature_extractor\n"
     ]
    }
   ]
  },
  {
   "cell_type": "code",
   "source": [
    "with open(\"k-means_10_clusters.pkl\", \"rb\") as f:\n",
    "  trained_model = pickle.load(f)\n"
   ],
   "metadata": {
    "id": "CECy8MdIZ5m6"
   },
   "execution_count": null,
   "outputs": []
  },
  {
   "cell_type": "markdown",
   "source": [
    "# Find Distance Between Centroids"
   ],
   "metadata": {
    "id": "G8ltY72h1rUw"
   }
  },
  {
   "cell_type": "code",
   "source": [
    "pip install annoy"
   ],
   "metadata": {
    "colab": {
     "base_uri": "https://localhost:8080/"
    },
    "id": "HG4QvBWa1v8J",
    "outputId": "2eeab95b-5d63-454e-b951-d722e45ade22"
   },
   "execution_count": null,
   "outputs": [
    {
     "output_type": "stream",
     "name": "stdout",
     "text": [
      "Collecting annoy\n",
      "  Downloading annoy-1.17.0.tar.gz (646 kB)\n",
      "\u001B[?25l\r\u001B[K     |▌                               | 10 kB 20.1 MB/s eta 0:00:01\r\u001B[K     |█                               | 20 kB 22.4 MB/s eta 0:00:01\r\u001B[K     |█▌                              | 30 kB 24.3 MB/s eta 0:00:01\r\u001B[K     |██                              | 40 kB 12.3 MB/s eta 0:00:01\r\u001B[K     |██▌                             | 51 kB 10.3 MB/s eta 0:00:01\r\u001B[K     |███                             | 61 kB 11.7 MB/s eta 0:00:01\r\u001B[K     |███▌                            | 71 kB 12.2 MB/s eta 0:00:01\r\u001B[K     |████                            | 81 kB 12.4 MB/s eta 0:00:01\r\u001B[K     |████▋                           | 92 kB 13.6 MB/s eta 0:00:01\r\u001B[K     |█████                           | 102 kB 12.2 MB/s eta 0:00:01\r\u001B[K     |█████▋                          | 112 kB 12.2 MB/s eta 0:00:01\r\u001B[K     |██████                          | 122 kB 12.2 MB/s eta 0:00:01\r\u001B[K     |██████▋                         | 133 kB 12.2 MB/s eta 0:00:01\r\u001B[K     |███████                         | 143 kB 12.2 MB/s eta 0:00:01\r\u001B[K     |███████▋                        | 153 kB 12.2 MB/s eta 0:00:01\r\u001B[K     |████████▏                       | 163 kB 12.2 MB/s eta 0:00:01\r\u001B[K     |████████▋                       | 174 kB 12.2 MB/s eta 0:00:01\r\u001B[K     |█████████▏                      | 184 kB 12.2 MB/s eta 0:00:01\r\u001B[K     |█████████▋                      | 194 kB 12.2 MB/s eta 0:00:01\r\u001B[K     |██████████▏                     | 204 kB 12.2 MB/s eta 0:00:01\r\u001B[K     |██████████▋                     | 215 kB 12.2 MB/s eta 0:00:01\r\u001B[K     |███████████▏                    | 225 kB 12.2 MB/s eta 0:00:01\r\u001B[K     |███████████▋                    | 235 kB 12.2 MB/s eta 0:00:01\r\u001B[K     |████████████▏                   | 245 kB 12.2 MB/s eta 0:00:01\r\u001B[K     |████████████▊                   | 256 kB 12.2 MB/s eta 0:00:01\r\u001B[K     |█████████████▏                  | 266 kB 12.2 MB/s eta 0:00:01\r\u001B[K     |█████████████▊                  | 276 kB 12.2 MB/s eta 0:00:01\r\u001B[K     |██████████████▏                 | 286 kB 12.2 MB/s eta 0:00:01\r\u001B[K     |██████████████▊                 | 296 kB 12.2 MB/s eta 0:00:01\r\u001B[K     |███████████████▏                | 307 kB 12.2 MB/s eta 0:00:01\r\u001B[K     |███████████████▊                | 317 kB 12.2 MB/s eta 0:00:01\r\u001B[K     |████████████████▎               | 327 kB 12.2 MB/s eta 0:00:01\r\u001B[K     |████████████████▊               | 337 kB 12.2 MB/s eta 0:00:01\r\u001B[K     |█████████████████▎              | 348 kB 12.2 MB/s eta 0:00:01\r\u001B[K     |█████████████████▊              | 358 kB 12.2 MB/s eta 0:00:01\r\u001B[K     |██████████████████▎             | 368 kB 12.2 MB/s eta 0:00:01\r\u001B[K     |██████████████████▊             | 378 kB 12.2 MB/s eta 0:00:01\r\u001B[K     |███████████████████▎            | 389 kB 12.2 MB/s eta 0:00:01\r\u001B[K     |███████████████████▊            | 399 kB 12.2 MB/s eta 0:00:01\r\u001B[K     |████████████████████▎           | 409 kB 12.2 MB/s eta 0:00:01\r\u001B[K     |████████████████████▉           | 419 kB 12.2 MB/s eta 0:00:01\r\u001B[K     |█████████████████████▎          | 430 kB 12.2 MB/s eta 0:00:01\r\u001B[K     |█████████████████████▉          | 440 kB 12.2 MB/s eta 0:00:01\r\u001B[K     |██████████████████████▎         | 450 kB 12.2 MB/s eta 0:00:01\r\u001B[K     |██████████████████████▉         | 460 kB 12.2 MB/s eta 0:00:01\r\u001B[K     |███████████████████████▎        | 471 kB 12.2 MB/s eta 0:00:01\r\u001B[K     |███████████████████████▉        | 481 kB 12.2 MB/s eta 0:00:01\r\u001B[K     |████████████████████████▍       | 491 kB 12.2 MB/s eta 0:00:01\r\u001B[K     |████████████████████████▉       | 501 kB 12.2 MB/s eta 0:00:01\r\u001B[K     |█████████████████████████▍      | 512 kB 12.2 MB/s eta 0:00:01\r\u001B[K     |█████████████████████████▉      | 522 kB 12.2 MB/s eta 0:00:01\r\u001B[K     |██████████████████████████▍     | 532 kB 12.2 MB/s eta 0:00:01\r\u001B[K     |██████████████████████████▉     | 542 kB 12.2 MB/s eta 0:00:01\r\u001B[K     |███████████████████████████▍    | 552 kB 12.2 MB/s eta 0:00:01\r\u001B[K     |███████████████████████████▉    | 563 kB 12.2 MB/s eta 0:00:01\r\u001B[K     |████████████████████████████▍   | 573 kB 12.2 MB/s eta 0:00:01\r\u001B[K     |█████████████████████████████   | 583 kB 12.2 MB/s eta 0:00:01\r\u001B[K     |█████████████████████████████▍  | 593 kB 12.2 MB/s eta 0:00:01\r\u001B[K     |██████████████████████████████  | 604 kB 12.2 MB/s eta 0:00:01\r\u001B[K     |██████████████████████████████▍ | 614 kB 12.2 MB/s eta 0:00:01\r\u001B[K     |███████████████████████████████ | 624 kB 12.2 MB/s eta 0:00:01\r\u001B[K     |███████████████████████████████▍| 634 kB 12.2 MB/s eta 0:00:01\r\u001B[K     |████████████████████████████████| 645 kB 12.2 MB/s eta 0:00:01\r\u001B[K     |████████████████████████████████| 646 kB 12.2 MB/s \n",
      "\u001B[?25hBuilding wheels for collected packages: annoy\n",
      "  Building wheel for annoy (setup.py) ... \u001B[?25l\u001B[?25hdone\n",
      "  Created wheel for annoy: filename=annoy-1.17.0-cp37-cp37m-linux_x86_64.whl size=391645 sha256=e49982756b9efc9c0d66dd621f502d7ea2d947dd2a10482731815f93e2466ea8\n",
      "  Stored in directory: /root/.cache/pip/wheels/4f/e8/1e/7cc9ebbfa87a3b9f8ba79408d4d31831d67eea918b679a4c07\n",
      "Successfully built annoy\n",
      "Installing collected packages: annoy\n",
      "Successfully installed annoy-1.17.0\n"
     ]
    }
   ]
  },
  {
   "cell_type": "code",
   "source": [
    "centroids  = trained_model.cluster_centers_  #means of shape [10,] \n",
    "centroids.shape"
   ],
   "metadata": {
    "colab": {
     "base_uri": "https://localhost:8080/"
    },
    "id": "tu5GMX2Az9xa",
    "outputId": "4137bd54-ee2a-491f-bc3c-13858fb9747f"
   },
   "execution_count": null,
   "outputs": [
    {
     "output_type": "execute_result",
     "data": {
      "text/plain": [
       "(10, 20480)"
      ]
     },
     "metadata": {},
     "execution_count": 7
    }
   ]
  },
  {
   "cell_type": "code",
   "source": [
    "from annoy import AnnoyIndex\n",
    "import random\n",
    "\n",
    "f = 10*2048\n",
    "metric = 'angular' # gives floating point numbers for distances\n",
    "# metric = 'manhattan' # give big numbers for distances\n",
    "# metric = 'hamming'  # give zeros for all distances\n",
    "# metric = 'dot'  # give big numbers for distances and not working properly\n",
    "\n",
    "# give floating point numbers for distances \n",
    "# BUT bigger compared to angular distances\n",
    "# metric = 'euclidean'  \n",
    "\n",
    "\n",
    "annoy_search = AnnoyIndex(f, metric)  # Length of item vector that will be indexed\n",
    "for i, center in enumerate(centroids):\n",
    "    annoy_search.add_item(i, center)\n",
    "\n",
    "annoy_search.build(10)  # 10 trees\n",
    "\n",
    "# -----------------------------\n",
    "# Save And Load Annoy\n",
    "# -----------------------------\n",
    "# t.save('test.ann')\n",
    "# u = AnnoyIndex(f, metric)\n",
    "# u.load('test.ann')  # super fast, will just mmap the file\n"
   ],
   "metadata": {
    "colab": {
     "base_uri": "https://localhost:8080/"
    },
    "id": "A2UroYUA1q8x",
    "outputId": "60e6b9be-8130-4846-daba-f46d10096e38"
   },
   "execution_count": null,
   "outputs": [
    {
     "output_type": "execute_result",
     "data": {
      "text/plain": [
       "True"
      ]
     },
     "metadata": {},
     "execution_count": 9
    }
   ]
  },
  {
   "cell_type": "code",
   "source": [
    "annoy_data = []\n",
    "for i in range(len(centroids)):\n",
    "    row = []\n",
    "    for j in range(len(centroids)):\n",
    "        dist = annoy_search.get_distance(i,j)\n",
    "        row.append(dist)\n",
    "        # similarity = round((1-dist)*100, 2)\n",
    "        # row.append(similarity)\n",
    "    \n",
    "    annoy_data.append(row)\n",
    "\n",
    "annoy_data\n"
   ],
   "metadata": {
    "colab": {
     "base_uri": "https://localhost:8080/"
    },
    "id": "t-Uiy_Do2UdL",
    "outputId": "49ff832a-e7a2-4ccb-ce94-0d237e38fd07"
   },
   "execution_count": null,
   "outputs": [
    {
     "output_type": "execute_result",
     "data": {
      "text/plain": [
       "[[0.0,\n",
       "  0.4895640015602112,\n",
       "  0.45653262734413147,\n",
       "  0.42865073680877686,\n",
       "  0.44539502263069153,\n",
       "  0.3575027585029602,\n",
       "  0.47035515308380127,\n",
       "  0.465510755777359,\n",
       "  0.39288997650146484,\n",
       "  0.47226130962371826],\n",
       " [0.4895640015602112,\n",
       "  0.0,\n",
       "  0.10650991648435593,\n",
       "  0.22989194095134735,\n",
       "  0.17292237281799316,\n",
       "  0.2923794984817505,\n",
       "  0.26423463225364685,\n",
       "  0.11522173136472702,\n",
       "  0.19566600024700165,\n",
       "  0.12532931566238403],\n",
       " [0.45653262734413147,\n",
       "  0.10650991648435593,\n",
       "  0.0,\n",
       "  0.2115822732448578,\n",
       "  0.1879531443119049,\n",
       "  0.27297914028167725,\n",
       "  0.2740384638309479,\n",
       "  0.10449071228504181,\n",
       "  0.14768639206886292,\n",
       "  0.15079978108406067],\n",
       " [0.42865073680877686,\n",
       "  0.22989194095134735,\n",
       "  0.2115822732448578,\n",
       "  0.0,\n",
       "  0.1415223330259323,\n",
       "  0.1642729789018631,\n",
       "  0.16102537512779236,\n",
       "  0.20710021257400513,\n",
       "  0.2316262274980545,\n",
       "  0.19005464017391205],\n",
       " [0.44539502263069153,\n",
       "  0.17292237281799316,\n",
       "  0.1879531443119049,\n",
       "  0.1415223330259323,\n",
       "  0.0,\n",
       "  0.20954462885856628,\n",
       "  0.18778099119663239,\n",
       "  0.15843725204467773,\n",
       "  0.21078480780124664,\n",
       "  0.15095588564872742],\n",
       " [0.3575027585029602,\n",
       "  0.2923794984817505,\n",
       "  0.27297914028167725,\n",
       "  0.1642729789018631,\n",
       "  0.20954462885856628,\n",
       "  0.0,\n",
       "  0.15405094623565674,\n",
       "  0.26486101746559143,\n",
       "  0.25265809893608093,\n",
       "  0.2221449762582779],\n",
       " [0.47035515308380127,\n",
       "  0.26423463225364685,\n",
       "  0.2740384638309479,\n",
       "  0.16102537512779236,\n",
       "  0.18778099119663239,\n",
       "  0.15405094623565674,\n",
       "  0.0,\n",
       "  0.2606775462627411,\n",
       "  0.3085150420665741,\n",
       "  0.18140102922916412],\n",
       " [0.465510755777359,\n",
       "  0.11522173136472702,\n",
       "  0.10449071228504181,\n",
       "  0.20710021257400513,\n",
       "  0.15843725204467773,\n",
       "  0.26486101746559143,\n",
       "  0.2606775462627411,\n",
       "  0.0,\n",
       "  0.12813879549503326,\n",
       "  0.12378643453121185],\n",
       " [0.39288997650146484,\n",
       "  0.19566600024700165,\n",
       "  0.14768639206886292,\n",
       "  0.2316262274980545,\n",
       "  0.21078480780124664,\n",
       "  0.25265809893608093,\n",
       "  0.3085150420665741,\n",
       "  0.12813879549503326,\n",
       "  0.0,\n",
       "  0.20377926528453827],\n",
       " [0.47226130962371826,\n",
       "  0.12532931566238403,\n",
       "  0.15079978108406067,\n",
       "  0.19005464017391205,\n",
       "  0.15095588564872742,\n",
       "  0.2221449762582779,\n",
       "  0.18140102922916412,\n",
       "  0.12378643453121185,\n",
       "  0.20377926528453827,\n",
       "  0.0]]"
      ]
     },
     "metadata": {},
     "execution_count": 11
    }
   ]
  },
  {
   "cell_type": "code",
   "source": [
    "annoy_df = pd.DataFrame(annoy_data)\n",
    "\n",
    "annoy_df"
   ],
   "metadata": {
    "colab": {
     "base_uri": "https://localhost:8080/",
     "height": 333
    },
    "id": "WOtf9wev2zot",
    "outputId": "4cb8511a-76be-4041-d3e8-663b7a7c3e1f"
   },
   "execution_count": null,
   "outputs": [
    {
     "output_type": "execute_result",
     "data": {
      "text/html": [
       "\n",
       "  <div id=\"df-ee9a51da-a4bc-4684-a32c-b528d19b3493\">\n",
       "    <div class=\"colab-df-container\">\n",
       "      <div>\n",
       "<style scoped>\n",
       "    .dataframe tbody tr th:only-of-type {\n",
       "        vertical-align: middle;\n",
       "    }\n",
       "\n",
       "    .dataframe tbody tr th {\n",
       "        vertical-align: top;\n",
       "    }\n",
       "\n",
       "    .dataframe thead th {\n",
       "        text-align: right;\n",
       "    }\n",
       "</style>\n",
       "<table border=\"1\" class=\"dataframe\">\n",
       "  <thead>\n",
       "    <tr style=\"text-align: right;\">\n",
       "      <th></th>\n",
       "      <th>0</th>\n",
       "      <th>1</th>\n",
       "      <th>2</th>\n",
       "      <th>3</th>\n",
       "      <th>4</th>\n",
       "      <th>5</th>\n",
       "      <th>6</th>\n",
       "      <th>7</th>\n",
       "      <th>8</th>\n",
       "      <th>9</th>\n",
       "    </tr>\n",
       "  </thead>\n",
       "  <tbody>\n",
       "    <tr>\n",
       "      <th>0</th>\n",
       "      <td>0.000000</td>\n",
       "      <td>0.489564</td>\n",
       "      <td>0.456533</td>\n",
       "      <td>0.428651</td>\n",
       "      <td>0.445395</td>\n",
       "      <td>0.357503</td>\n",
       "      <td>0.470355</td>\n",
       "      <td>0.465511</td>\n",
       "      <td>0.392890</td>\n",
       "      <td>0.472261</td>\n",
       "    </tr>\n",
       "    <tr>\n",
       "      <th>1</th>\n",
       "      <td>0.489564</td>\n",
       "      <td>0.000000</td>\n",
       "      <td>0.106510</td>\n",
       "      <td>0.229892</td>\n",
       "      <td>0.172922</td>\n",
       "      <td>0.292379</td>\n",
       "      <td>0.264235</td>\n",
       "      <td>0.115222</td>\n",
       "      <td>0.195666</td>\n",
       "      <td>0.125329</td>\n",
       "    </tr>\n",
       "    <tr>\n",
       "      <th>2</th>\n",
       "      <td>0.456533</td>\n",
       "      <td>0.106510</td>\n",
       "      <td>0.000000</td>\n",
       "      <td>0.211582</td>\n",
       "      <td>0.187953</td>\n",
       "      <td>0.272979</td>\n",
       "      <td>0.274038</td>\n",
       "      <td>0.104491</td>\n",
       "      <td>0.147686</td>\n",
       "      <td>0.150800</td>\n",
       "    </tr>\n",
       "    <tr>\n",
       "      <th>3</th>\n",
       "      <td>0.428651</td>\n",
       "      <td>0.229892</td>\n",
       "      <td>0.211582</td>\n",
       "      <td>0.000000</td>\n",
       "      <td>0.141522</td>\n",
       "      <td>0.164273</td>\n",
       "      <td>0.161025</td>\n",
       "      <td>0.207100</td>\n",
       "      <td>0.231626</td>\n",
       "      <td>0.190055</td>\n",
       "    </tr>\n",
       "    <tr>\n",
       "      <th>4</th>\n",
       "      <td>0.445395</td>\n",
       "      <td>0.172922</td>\n",
       "      <td>0.187953</td>\n",
       "      <td>0.141522</td>\n",
       "      <td>0.000000</td>\n",
       "      <td>0.209545</td>\n",
       "      <td>0.187781</td>\n",
       "      <td>0.158437</td>\n",
       "      <td>0.210785</td>\n",
       "      <td>0.150956</td>\n",
       "    </tr>\n",
       "    <tr>\n",
       "      <th>5</th>\n",
       "      <td>0.357503</td>\n",
       "      <td>0.292379</td>\n",
       "      <td>0.272979</td>\n",
       "      <td>0.164273</td>\n",
       "      <td>0.209545</td>\n",
       "      <td>0.000000</td>\n",
       "      <td>0.154051</td>\n",
       "      <td>0.264861</td>\n",
       "      <td>0.252658</td>\n",
       "      <td>0.222145</td>\n",
       "    </tr>\n",
       "    <tr>\n",
       "      <th>6</th>\n",
       "      <td>0.470355</td>\n",
       "      <td>0.264235</td>\n",
       "      <td>0.274038</td>\n",
       "      <td>0.161025</td>\n",
       "      <td>0.187781</td>\n",
       "      <td>0.154051</td>\n",
       "      <td>0.000000</td>\n",
       "      <td>0.260678</td>\n",
       "      <td>0.308515</td>\n",
       "      <td>0.181401</td>\n",
       "    </tr>\n",
       "    <tr>\n",
       "      <th>7</th>\n",
       "      <td>0.465511</td>\n",
       "      <td>0.115222</td>\n",
       "      <td>0.104491</td>\n",
       "      <td>0.207100</td>\n",
       "      <td>0.158437</td>\n",
       "      <td>0.264861</td>\n",
       "      <td>0.260678</td>\n",
       "      <td>0.000000</td>\n",
       "      <td>0.128139</td>\n",
       "      <td>0.123786</td>\n",
       "    </tr>\n",
       "    <tr>\n",
       "      <th>8</th>\n",
       "      <td>0.392890</td>\n",
       "      <td>0.195666</td>\n",
       "      <td>0.147686</td>\n",
       "      <td>0.231626</td>\n",
       "      <td>0.210785</td>\n",
       "      <td>0.252658</td>\n",
       "      <td>0.308515</td>\n",
       "      <td>0.128139</td>\n",
       "      <td>0.000000</td>\n",
       "      <td>0.203779</td>\n",
       "    </tr>\n",
       "    <tr>\n",
       "      <th>9</th>\n",
       "      <td>0.472261</td>\n",
       "      <td>0.125329</td>\n",
       "      <td>0.150800</td>\n",
       "      <td>0.190055</td>\n",
       "      <td>0.150956</td>\n",
       "      <td>0.222145</td>\n",
       "      <td>0.181401</td>\n",
       "      <td>0.123786</td>\n",
       "      <td>0.203779</td>\n",
       "      <td>0.000000</td>\n",
       "    </tr>\n",
       "  </tbody>\n",
       "</table>\n",
       "</div>\n",
       "      <button class=\"colab-df-convert\" onclick=\"convertToInteractive('df-ee9a51da-a4bc-4684-a32c-b528d19b3493')\"\n",
       "              title=\"Convert this dataframe to an interactive table.\"\n",
       "              style=\"display:none;\">\n",
       "        \n",
       "  <svg xmlns=\"http://www.w3.org/2000/svg\" height=\"24px\"viewBox=\"0 0 24 24\"\n",
       "       width=\"24px\">\n",
       "    <path d=\"M0 0h24v24H0V0z\" fill=\"none\"/>\n",
       "    <path d=\"M18.56 5.44l.94 2.06.94-2.06 2.06-.94-2.06-.94-.94-2.06-.94 2.06-2.06.94zm-11 1L8.5 8.5l.94-2.06 2.06-.94-2.06-.94L8.5 2.5l-.94 2.06-2.06.94zm10 10l.94 2.06.94-2.06 2.06-.94-2.06-.94-.94-2.06-.94 2.06-2.06.94z\"/><path d=\"M17.41 7.96l-1.37-1.37c-.4-.4-.92-.59-1.43-.59-.52 0-1.04.2-1.43.59L10.3 9.45l-7.72 7.72c-.78.78-.78 2.05 0 2.83L4 21.41c.39.39.9.59 1.41.59.51 0 1.02-.2 1.41-.59l7.78-7.78 2.81-2.81c.8-.78.8-2.07 0-2.86zM5.41 20L4 18.59l7.72-7.72 1.47 1.35L5.41 20z\"/>\n",
       "  </svg>\n",
       "      </button>\n",
       "      \n",
       "  <style>\n",
       "    .colab-df-container {\n",
       "      display:flex;\n",
       "      flex-wrap:wrap;\n",
       "      gap: 12px;\n",
       "    }\n",
       "\n",
       "    .colab-df-convert {\n",
       "      background-color: #E8F0FE;\n",
       "      border: none;\n",
       "      border-radius: 50%;\n",
       "      cursor: pointer;\n",
       "      display: none;\n",
       "      fill: #1967D2;\n",
       "      height: 32px;\n",
       "      padding: 0 0 0 0;\n",
       "      width: 32px;\n",
       "    }\n",
       "\n",
       "    .colab-df-convert:hover {\n",
       "      background-color: #E2EBFA;\n",
       "      box-shadow: 0px 1px 2px rgba(60, 64, 67, 0.3), 0px 1px 3px 1px rgba(60, 64, 67, 0.15);\n",
       "      fill: #174EA6;\n",
       "    }\n",
       "\n",
       "    [theme=dark] .colab-df-convert {\n",
       "      background-color: #3B4455;\n",
       "      fill: #D2E3FC;\n",
       "    }\n",
       "\n",
       "    [theme=dark] .colab-df-convert:hover {\n",
       "      background-color: #434B5C;\n",
       "      box-shadow: 0px 1px 3px 1px rgba(0, 0, 0, 0.15);\n",
       "      filter: drop-shadow(0px 1px 2px rgba(0, 0, 0, 0.3));\n",
       "      fill: #FFFFFF;\n",
       "    }\n",
       "  </style>\n",
       "\n",
       "      <script>\n",
       "        const buttonEl =\n",
       "          document.querySelector('#df-ee9a51da-a4bc-4684-a32c-b528d19b3493 button.colab-df-convert');\n",
       "        buttonEl.style.display =\n",
       "          google.colab.kernel.accessAllowed ? 'block' : 'none';\n",
       "\n",
       "        async function convertToInteractive(key) {\n",
       "          const element = document.querySelector('#df-ee9a51da-a4bc-4684-a32c-b528d19b3493');\n",
       "          const dataTable =\n",
       "            await google.colab.kernel.invokeFunction('convertToInteractive',\n",
       "                                                     [key], {});\n",
       "          if (!dataTable) return;\n",
       "\n",
       "          const docLinkHtml = 'Like what you see? Visit the ' +\n",
       "            '<a target=\"_blank\" href=https://colab.research.google.com/notebooks/data_table.ipynb>data table notebook</a>'\n",
       "            + ' to learn more about interactive tables.';\n",
       "          element.innerHTML = '';\n",
       "          dataTable['output_type'] = 'display_data';\n",
       "          await google.colab.output.renderOutput(dataTable, element);\n",
       "          const docLink = document.createElement('div');\n",
       "          docLink.innerHTML = docLinkHtml;\n",
       "          element.appendChild(docLink);\n",
       "        }\n",
       "      </script>\n",
       "    </div>\n",
       "  </div>\n",
       "  "
      ],
      "text/plain": [
       "          0         1         2  ...         7         8         9\n",
       "0  0.000000  0.489564  0.456533  ...  0.465511  0.392890  0.472261\n",
       "1  0.489564  0.000000  0.106510  ...  0.115222  0.195666  0.125329\n",
       "2  0.456533  0.106510  0.000000  ...  0.104491  0.147686  0.150800\n",
       "3  0.428651  0.229892  0.211582  ...  0.207100  0.231626  0.190055\n",
       "4  0.445395  0.172922  0.187953  ...  0.158437  0.210785  0.150956\n",
       "5  0.357503  0.292379  0.272979  ...  0.264861  0.252658  0.222145\n",
       "6  0.470355  0.264235  0.274038  ...  0.260678  0.308515  0.181401\n",
       "7  0.465511  0.115222  0.104491  ...  0.000000  0.128139  0.123786\n",
       "8  0.392890  0.195666  0.147686  ...  0.128139  0.000000  0.203779\n",
       "9  0.472261  0.125329  0.150800  ...  0.123786  0.203779  0.000000\n",
       "\n",
       "[10 rows x 10 columns]"
      ]
     },
     "metadata": {},
     "execution_count": 12
    }
   ]
  },
  {
   "cell_type": "markdown",
   "source": [
    "# Counting Number of videos per cluster"
   ],
   "metadata": {
    "id": "qybViqKnbG2Y"
   }
  },
  {
   "cell_type": "code",
   "source": [
    "from collections import Counter, defaultdict\n",
    "num_items_in_cluster = Counter(trained_model.labels_)\n",
    "num_items_in_cluster"
   ],
   "metadata": {
    "colab": {
     "base_uri": "https://localhost:8080/"
    },
    "id": "5iyRExhIaOdJ",
    "outputId": "7dc61454-3138-492a-ea71-d059a771d762"
   },
   "execution_count": null,
   "outputs": [
    {
     "output_type": "execute_result",
     "data": {
      "text/plain": [
       "Counter({0: 33,\n",
       "         1: 700,\n",
       "         2: 1104,\n",
       "         3: 446,\n",
       "         4: 277,\n",
       "         5: 459,\n",
       "         6: 691,\n",
       "         7: 1088,\n",
       "         8: 298,\n",
       "         9: 380})"
      ]
     },
     "metadata": {},
     "execution_count": 10
    }
   ]
  },
  {
   "cell_type": "code",
   "source": [
    "# This should print 5476 which is the total number of valid videos in the dataset\n",
    "sum(num_items_in_cluster.values()) "
   ],
   "metadata": {
    "colab": {
     "base_uri": "https://localhost:8080/"
    },
    "id": "WjR139MJajqI",
    "outputId": "15412459-dfd5-43d3-bcee-9237d9bee67f"
   },
   "execution_count": null,
   "outputs": [
    {
     "output_type": "execute_result",
     "data": {
      "text/plain": [
       "5476"
      ]
     },
     "metadata": {},
     "execution_count": 12
    }
   ]
  },
  {
   "cell_type": "code",
   "source": [
    "X = list(num_items_in_cluster.keys())\n",
    "Y = list(num_items_in_cluster.values())\n",
    "\n",
    "plt.bar(X, Y, align='center')\n",
    "plt.xticks(X)\n",
    "plt.show()"
   ],
   "metadata": {
    "colab": {
     "base_uri": "https://localhost:8080/",
     "height": 265
    },
    "id": "LEoUy6SVaw5J",
    "outputId": "fa881532-590d-40a0-ad7d-d3c21399ddfd"
   },
   "execution_count": null,
   "outputs": [
    {
     "output_type": "display_data",
     "data": {
      "image/png": "[encoded data removed]",
      "text/plain": [
       "<Figure size 432x288 with 1 Axes>"
      ]
     },
     "metadata": {
      "needs_background": "light"
     }
    }
   ]
  },
  {
   "cell_type": "markdown",
   "source": [
    "# Assign a new video to a cluster"
   ],
   "metadata": {
    "id": "faa0eRMccX4w"
   }
  },
  {
   "cell_type": "code",
   "source": [
    "def get_video_features(video_path, data_type='2d', batch_size=64, num_decoding_thread=8):\n",
    "\n",
    "  # create a pathlib path\n",
    "  if isinstance(video_path, str):\n",
    "    video_path = Path(video_path)\n",
    "  \n",
    "  assert video_path.exists(), \"Video Path Doesn't Exist\"\n",
    "\n",
    "  temp_folder = Path('./temp_folder')\n",
    "  temp_folder.mkdir(exist_ok=True)\n",
    "  \n",
    "  npy_file = temp_folder / video_path.with_suffix('.npy').name\n",
    "  data = [[str(video_path),  str(npy_file)]]\n",
    "  df = pd.DataFrame(data, columns=['video_path', 'feature_path'])\n",
    "\n",
    "  csv_file_path = temp_folder / 'videos_npy.csv'\n",
    "  df.to_csv(csv_file_path, index=False)\n",
    "  \n",
    "  print('[INFO]: Extracting Video Features...')\n",
    "  \n",
    "  cmd = 'python extract.py --csv={} --type={} --batch_size={} --num_decoding_thread={}'.format(\n",
    "        str(csv_file_path),\n",
    "        data_type,\n",
    "        batch_size,\n",
    "        num_decoding_thread,\n",
    "    )\n",
    "\n",
    "  osstdout = subprocess.Popen(\n",
    "        cmd,\n",
    "        shell=True,\n",
    "        stdin=subprocess.PIPE,\n",
    "        stdout=subprocess.PIPE,\n",
    "        stderr=subprocess.STDOUT,\n",
    "        close_fds=True,\n",
    "    )\n",
    "  \n",
    "  theInfo = osstdout.communicate()[0].strip()  # excute the CMD command\n",
    "\n",
    "  if osstdout.returncode == 0:\n",
    "      print(\"[INFO]: Successfully Extracted Video Features.\")\n",
    "  else:\n",
    "      print(\"[ERROR]: Falied To Extract Video Features.\")\n",
    "      print(theInfo)\n",
    "  \n",
    "  features = np.load(npy_file).reshape((1, 20480))\n",
    "  shutil.rmtree(temp_folder)\n",
    "  return features\n"
   ],
   "metadata": {
    "id": "3LEUsUZ2cCsD"
   },
   "execution_count": null,
   "outputs": []
  },
  {
   "cell_type": "code",
   "source": [
    "video_path = '../AllVideos/2016Russiancaravan.mp4'\n",
    "video_fets = get_video_features(video_path)\n",
    "\n",
    "cluster_idx = trained_model.predict(video_fets)[0]\n",
    "print(f'This Video belongs to cluster # {cluster_idx}'.title())"
   ],
   "metadata": {
    "colab": {
     "base_uri": "https://localhost:8080/",
     "height": 240
    },
    "id": "6LaoXOIpeYXC",
    "outputId": "1cc422b7-db33-473c-f220-29bf5ae07489"
   },
   "execution_count": null,
   "outputs": [
    {
     "output_type": "error",
     "ename": "NameError",
     "evalue": "ignored",
     "traceback": [
      "\u001B[0;31m---------------------------------------------------------------------------\u001B[0m",
      "\u001B[0;31mNameError\u001B[0m                                 Traceback (most recent call last)",
      "\u001B[0;32m<ipython-input-1-277e39cca34a>\u001B[0m in \u001B[0;36m<module>\u001B[0;34m()\u001B[0m\n\u001B[1;32m      1\u001B[0m \u001B[0mvideo_path\u001B[0m \u001B[0;34m=\u001B[0m \u001B[0;34m'../AllVideos/2016Russiancaravan.mp4'\u001B[0m\u001B[0;34m\u001B[0m\u001B[0;34m\u001B[0m\u001B[0m\n\u001B[0;32m----> 2\u001B[0;31m \u001B[0mvideo_fets\u001B[0m \u001B[0;34m=\u001B[0m \u001B[0mget_video_features\u001B[0m\u001B[0;34m(\u001B[0m\u001B[0mvideo_path\u001B[0m\u001B[0;34m)\u001B[0m\u001B[0;34m\u001B[0m\u001B[0;34m\u001B[0m\u001B[0m\n\u001B[0m\u001B[1;32m      3\u001B[0m \u001B[0;34m\u001B[0m\u001B[0m\n\u001B[1;32m      4\u001B[0m \u001B[0mcluster_idx\u001B[0m \u001B[0;34m=\u001B[0m \u001B[0mtrained_model\u001B[0m\u001B[0;34m.\u001B[0m\u001B[0mpredict\u001B[0m\u001B[0;34m(\u001B[0m\u001B[0mvideo_fets\u001B[0m\u001B[0;34m)\u001B[0m\u001B[0;34m[\u001B[0m\u001B[0;36m0\u001B[0m\u001B[0;34m]\u001B[0m\u001B[0;34m\u001B[0m\u001B[0;34m\u001B[0m\u001B[0m\n\u001B[1;32m      5\u001B[0m \u001B[0mprint\u001B[0m\u001B[0;34m(\u001B[0m\u001B[0;34mf'This Video belongs to cluster # {cluster_idx}'\u001B[0m\u001B[0;34m.\u001B[0m\u001B[0mtitle\u001B[0m\u001B[0;34m(\u001B[0m\u001B[0;34m)\u001B[0m\u001B[0;34m)\u001B[0m\u001B[0;34m\u001B[0m\u001B[0;34m\u001B[0m\u001B[0m\n",
      "\u001B[0;31mNameError\u001B[0m: name 'get_video_features' is not defined"
     ]
    }
   ]
  },
  {
   "cell_type": "code",
   "source": [
    ""
   ],
   "metadata": {
    "id": "LdIZry0ppq5-"
   },
   "execution_count": null,
   "outputs": []
  }
 ]
}