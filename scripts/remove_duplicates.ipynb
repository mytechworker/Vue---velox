{
 "cells": [
  {
   "cell_type": "code",
   "execution_count": 76,
   "metadata": {
    "collapsed": true
   },
   "outputs": [],
   "source": [
    "import time\n",
    "import logging\n",
    "import requests\n",
    "import pandas as pd"
   ]
  },
  {
   "cell_type": "code",
   "execution_count": 77,
   "outputs": [],
   "source": [
    "url = 'https://velox.horse/velox/api/horses/'\n",
    "def get_url_data(api_url: str) -> pd.DataFrame:\n",
    "    data = []\n",
    "    url = api_url\n",
    "    while url:\n",
    "        logging.info(f'fetching url: {url}')\n",
    "        resp = requests.get(url).json()\n",
    "        results = resp['results']\n",
    "        url = resp['next']\n",
    "        for item in results:\n",
    "            data.append(item)\n",
    "        time.sleep(0.1)\n",
    "    df = pd.DataFrame(data)\n",
    "    return df\n",
    "\n",
    "df = get_url_data(url)"
   ],
   "metadata": {
    "collapsed": false,
    "pycharm": {
     "name": "#%%\n"
    }
   }
  },
  {
   "cell_type": "code",
   "execution_count": 78,
   "outputs": [
    {
     "data": {
      "text/plain": "         id                    name  type     sex date_of_birth  starts  \\\n209     708        Stage Luck (USA)  Flat  Female    2004-02-21     7.0   \n210     709        Coco Belle (USA)  Flat  Female    2004-02-26    26.0   \n211     710    Cotton Blossom (USA)  Flat  Female    2004-02-26    11.0   \n212     711          Marietta (USA)  Flat  Female    2004-03-30    10.0   \n213     712       Pay The Man (USA)  Flat  Female    2004-04-26    76.0   \n...     ...                     ...   ...     ...           ...     ...   \n8128  10557  Yellowstone Girl (USA)  Flat  Female    2018-02-19     NaN   \n8129  10577         Zechariah (Ire)  Flat    Male    2019-02-25     NaN   \n8130  10586           Zisisit (IRE)  Flat  Female    2019-04-04     NaN   \n8131  10605                 dk-test  Flat    Male    2022-02-01     0.0   \n8175  10606          Opinions (AUS)  Flat    Male    2015-10-06     0.0   \n\n     date_last_start        country   tf_reg race_rating  ... size1 class1  \\\n209             None                 4004998      106.00  ...    CT     CC   \n210             None                 4010167      128.00  ...    TT     AA   \n211             None                 4014427      116.00  ...    CT     AC   \n212             None                 4013130       99.00  ...    TT     CC   \n213             None                 4036749      104.00  ...    TT     CC   \n...              ...            ...      ...         ...  ...   ...    ...   \n8128            None  North America                 None  ...                \n8129            None         Europe                 None  ...                \n8130            None         Europe                 None  ...                \n8131            None           None     None        0.00  ...  None   None   \n8175            None           None     None        0.00  ...  None   None   \n\n     class2 class3                   created_at                   updated_at  \\\n209      GG     CC  2022-01-13T17:45:54.999961Z  2022-01-13T17:45:54.999979Z   \n210      GG     AA  2022-01-13T17:45:55.003630Z  2022-01-13T17:45:55.003649Z   \n211      GA     AC  2022-01-13T17:45:55.007037Z  2022-01-13T17:45:55.007055Z   \n212      GG     AC  2022-01-13T17:45:55.010931Z  2022-01-13T17:45:55.010955Z   \n213      GA     CC  2022-01-13T17:45:55.014382Z  2022-01-13T17:45:55.014400Z   \n...     ...    ...                          ...                          ...   \n8128                2022-02-01T20:12:47.576917Z  2022-02-02T12:34:17.851569Z   \n8129                2022-02-01T20:12:47.653262Z  2022-02-02T12:34:20.311758Z   \n8130                2022-02-01T20:12:47.686615Z  2022-02-02T12:34:21.416977Z   \n8131   None   None  2022-02-03T10:48:41.959239Z  2022-02-03T10:48:41.959267Z   \n8175   None   None  2022-02-04T17:59:05.236828Z  2022-02-04T17:59:05.236853Z   \n\n     update_days start_days days_old measures  \n209           22          0     6558       []  \n210           22          0     6553       []  \n211           22          0     6553       []  \n212           22          0     6520       []  \n213           22          0     6493       []  \n...          ...        ...      ...      ...  \n8128           2          0     1446       []  \n8129           2          0     1075       []  \n8130           2          0     1037       []  \n8131           1          0        3       []  \n8175           0          0     2313       []  \n\n[7704 rows x 26 columns]",
      "text/html": "<div>\n<style scoped>\n    .dataframe tbody tr th:only-of-type {\n        vertical-align: middle;\n    }\n\n    .dataframe tbody tr th {\n        vertical-align: top;\n    }\n\n    .dataframe thead th {\n        text-align: right;\n    }\n</style>\n<table border=\"1\" class=\"dataframe\">\n  <thead>\n    <tr style=\"text-align: right;\">\n      <th></th>\n      <th>id</th>\n      <th>name</th>\n      <th>type</th>\n      <th>sex</th>\n      <th>date_of_birth</th>\n      <th>starts</th>\n      <th>date_last_start</th>\n      <th>country</th>\n      <th>tf_reg</th>\n      <th>race_rating</th>\n      <th>...</th>\n      <th>size1</th>\n      <th>class1</th>\n      <th>class2</th>\n      <th>class3</th>\n      <th>created_at</th>\n      <th>updated_at</th>\n      <th>update_days</th>\n      <th>start_days</th>\n      <th>days_old</th>\n      <th>measures</th>\n    </tr>\n  </thead>\n  <tbody>\n    <tr>\n      <th>209</th>\n      <td>708</td>\n      <td>Stage Luck (USA)</td>\n      <td>Flat</td>\n      <td>Female</td>\n      <td>2004-02-21</td>\n      <td>7.0</td>\n      <td>None</td>\n      <td></td>\n      <td>4004998</td>\n      <td>106.00</td>\n      <td>...</td>\n      <td>CT</td>\n      <td>CC</td>\n      <td>GG</td>\n      <td>CC</td>\n      <td>2022-01-13T17:45:54.999961Z</td>\n      <td>2022-01-13T17:45:54.999979Z</td>\n      <td>22</td>\n      <td>0</td>\n      <td>6558</td>\n      <td>[]</td>\n    </tr>\n    <tr>\n      <th>210</th>\n      <td>709</td>\n      <td>Coco Belle (USA)</td>\n      <td>Flat</td>\n      <td>Female</td>\n      <td>2004-02-26</td>\n      <td>26.0</td>\n      <td>None</td>\n      <td></td>\n      <td>4010167</td>\n      <td>128.00</td>\n      <td>...</td>\n      <td>TT</td>\n      <td>AA</td>\n      <td>GG</td>\n      <td>AA</td>\n      <td>2022-01-13T17:45:55.003630Z</td>\n      <td>2022-01-13T17:45:55.003649Z</td>\n      <td>22</td>\n      <td>0</td>\n      <td>6553</td>\n      <td>[]</td>\n    </tr>\n    <tr>\n      <th>211</th>\n      <td>710</td>\n      <td>Cotton Blossom (USA)</td>\n      <td>Flat</td>\n      <td>Female</td>\n      <td>2004-02-26</td>\n      <td>11.0</td>\n      <td>None</td>\n      <td></td>\n      <td>4014427</td>\n      <td>116.00</td>\n      <td>...</td>\n      <td>CT</td>\n      <td>AC</td>\n      <td>GA</td>\n      <td>AC</td>\n      <td>2022-01-13T17:45:55.007037Z</td>\n      <td>2022-01-13T17:45:55.007055Z</td>\n      <td>22</td>\n      <td>0</td>\n      <td>6553</td>\n      <td>[]</td>\n    </tr>\n    <tr>\n      <th>212</th>\n      <td>711</td>\n      <td>Marietta (USA)</td>\n      <td>Flat</td>\n      <td>Female</td>\n      <td>2004-03-30</td>\n      <td>10.0</td>\n      <td>None</td>\n      <td></td>\n      <td>4013130</td>\n      <td>99.00</td>\n      <td>...</td>\n      <td>TT</td>\n      <td>CC</td>\n      <td>GG</td>\n      <td>AC</td>\n      <td>2022-01-13T17:45:55.010931Z</td>\n      <td>2022-01-13T17:45:55.010955Z</td>\n      <td>22</td>\n      <td>0</td>\n      <td>6520</td>\n      <td>[]</td>\n    </tr>\n    <tr>\n      <th>213</th>\n      <td>712</td>\n      <td>Pay The Man (USA)</td>\n      <td>Flat</td>\n      <td>Female</td>\n      <td>2004-04-26</td>\n      <td>76.0</td>\n      <td>None</td>\n      <td></td>\n      <td>4036749</td>\n      <td>104.00</td>\n      <td>...</td>\n      <td>TT</td>\n      <td>CC</td>\n      <td>GA</td>\n      <td>CC</td>\n      <td>2022-01-13T17:45:55.014382Z</td>\n      <td>2022-01-13T17:45:55.014400Z</td>\n      <td>22</td>\n      <td>0</td>\n      <td>6493</td>\n      <td>[]</td>\n    </tr>\n    <tr>\n      <th>...</th>\n      <td>...</td>\n      <td>...</td>\n      <td>...</td>\n      <td>...</td>\n      <td>...</td>\n      <td>...</td>\n      <td>...</td>\n      <td>...</td>\n      <td>...</td>\n      <td>...</td>\n      <td>...</td>\n      <td>...</td>\n      <td>...</td>\n      <td>...</td>\n      <td>...</td>\n      <td>...</td>\n      <td>...</td>\n      <td>...</td>\n      <td>...</td>\n      <td>...</td>\n      <td>...</td>\n    </tr>\n    <tr>\n      <th>8128</th>\n      <td>10557</td>\n      <td>Yellowstone Girl (USA)</td>\n      <td>Flat</td>\n      <td>Female</td>\n      <td>2018-02-19</td>\n      <td>NaN</td>\n      <td>None</td>\n      <td>North America</td>\n      <td></td>\n      <td>None</td>\n      <td>...</td>\n      <td></td>\n      <td></td>\n      <td></td>\n      <td></td>\n      <td>2022-02-01T20:12:47.576917Z</td>\n      <td>2022-02-02T12:34:17.851569Z</td>\n      <td>2</td>\n      <td>0</td>\n      <td>1446</td>\n      <td>[]</td>\n    </tr>\n    <tr>\n      <th>8129</th>\n      <td>10577</td>\n      <td>Zechariah (Ire)</td>\n      <td>Flat</td>\n      <td>Male</td>\n      <td>2019-02-25</td>\n      <td>NaN</td>\n      <td>None</td>\n      <td>Europe</td>\n      <td></td>\n      <td>None</td>\n      <td>...</td>\n      <td></td>\n      <td></td>\n      <td></td>\n      <td></td>\n      <td>2022-02-01T20:12:47.653262Z</td>\n      <td>2022-02-02T12:34:20.311758Z</td>\n      <td>2</td>\n      <td>0</td>\n      <td>1075</td>\n      <td>[]</td>\n    </tr>\n    <tr>\n      <th>8130</th>\n      <td>10586</td>\n      <td>Zisisit (IRE)</td>\n      <td>Flat</td>\n      <td>Female</td>\n      <td>2019-04-04</td>\n      <td>NaN</td>\n      <td>None</td>\n      <td>Europe</td>\n      <td></td>\n      <td>None</td>\n      <td>...</td>\n      <td></td>\n      <td></td>\n      <td></td>\n      <td></td>\n      <td>2022-02-01T20:12:47.686615Z</td>\n      <td>2022-02-02T12:34:21.416977Z</td>\n      <td>2</td>\n      <td>0</td>\n      <td>1037</td>\n      <td>[]</td>\n    </tr>\n    <tr>\n      <th>8131</th>\n      <td>10605</td>\n      <td>dk-test</td>\n      <td>Flat</td>\n      <td>Male</td>\n      <td>2022-02-01</td>\n      <td>0.0</td>\n      <td>None</td>\n      <td>None</td>\n      <td>None</td>\n      <td>0.00</td>\n      <td>...</td>\n      <td>None</td>\n      <td>None</td>\n      <td>None</td>\n      <td>None</td>\n      <td>2022-02-03T10:48:41.959239Z</td>\n      <td>2022-02-03T10:48:41.959267Z</td>\n      <td>1</td>\n      <td>0</td>\n      <td>3</td>\n      <td>[]</td>\n    </tr>\n    <tr>\n      <th>8175</th>\n      <td>10606</td>\n      <td>Opinions (AUS)</td>\n      <td>Flat</td>\n      <td>Male</td>\n      <td>2015-10-06</td>\n      <td>0.0</td>\n      <td>None</td>\n      <td>None</td>\n      <td>None</td>\n      <td>0.00</td>\n      <td>...</td>\n      <td>None</td>\n      <td>None</td>\n      <td>None</td>\n      <td>None</td>\n      <td>2022-02-04T17:59:05.236828Z</td>\n      <td>2022-02-04T17:59:05.236853Z</td>\n      <td>0</td>\n      <td>0</td>\n      <td>2313</td>\n      <td>[]</td>\n    </tr>\n  </tbody>\n</table>\n<p>7704 rows × 26 columns</p>\n</div>"
     },
     "execution_count": 78,
     "metadata": {},
     "output_type": "execute_result"
    }
   ],
   "source": [
    "# df[~df['date_last_start'].isnull()]\n",
    "# df.iloc[6670].at['date_last_start'] == None\n",
    "# df.to_csv('horses_duplicates.csv', index=False)\n",
    "df[(df['date_last_start'].isnull()) & (df['measures'].map(len) == 0)]"
   ],
   "metadata": {
    "collapsed": false,
    "pycharm": {
     "name": "#%%\n"
    }
   }
  },
  {
   "cell_type": "code",
   "execution_count": 79,
   "outputs": [],
   "source": [
    "def remove_duplicates(dfx):\n",
    "    total_len = len(dfx)\n",
    "    if total_len > 1:\n",
    "        dfr = dfx[(dfx['date_last_start'].isnull()) & (dfx['measures'].map(len) == 0)]\n",
    "        if len(dfr) == total_len:\n",
    "            # print('removing random ')\n",
    "            ids = dfr['id'].to_list()\n",
    "            ids_remove = ids[1:]\n",
    "            # print(ids_remove)\n",
    "            return ids_remove\n",
    "\n",
    "        df_with_measures = dfx[dfx['measures'].map(len) > 0]\n",
    "        df_no_measures = dfx[dfx['measures'].map(len) == 0]\n",
    "        # print(f'with measure {len(df_with_measures)}, no measure {len(df_no_measures)}')\n",
    "        if len(df_with_measures) == 1:\n",
    "            # print('keeping one with measures')\n",
    "            ids_remove = df_no_measures['id'].to_list()\n",
    "            # print(ids_remove)\n",
    "            return ids_remove\n",
    "\n",
    "        df_with_start_date = dfx[~dfx['date_last_start'].isnull()]\n",
    "        df_no_start_date = dfx[dfx['date_last_start'].isnull()]\n",
    "        if len(df_with_start_date) == 1:\n",
    "            ids_remove = df_no_start_date['id'].to_list()\n",
    "            return ids_remove\n",
    "        print('unknown', dfx)\n",
    "\n",
    "\n",
    "\n",
    "\n",
    "\n",
    "\n",
    "\n",
    "\n",
    "dfg = df.groupby('name').apply(remove_duplicates)\n",
    "\n",
    "# dfg[dfg['data']>3]"
   ],
   "metadata": {
    "collapsed": false,
    "pycharm": {
     "name": "#%%\n"
    }
   }
  },
  {
   "cell_type": "code",
   "execution_count": 80,
   "outputs": [],
   "source": [
    "df_remove = dfg[~dfg.isnull()]\n",
    "# df_remove.to_csv('to_remove.csv')\n",
    "df_remove.to_json('to_remove1.json')"
   ],
   "metadata": {
    "collapsed": false,
    "pycharm": {
     "name": "#%%\n"
    }
   }
  }
 ],
 "metadata": {
  "kernelspec": {
   "display_name": "Python 3",
   "language": "python",
   "name": "python3"
  },
  "language_info": {
   "codemirror_mode": {
    "name": "ipython",
    "version": 2
   },
   "file_extension": ".py",
   "mimetype": "text/x-python",
   "name": "python",
   "nbconvert_exporter": "python",
   "pygments_lexer": "ipython2",
   "version": "2.7.6"
  }
 },
 "nbformat": 4,
 "nbformat_minor": 0
}